{
 "cells": [
  {
   "cell_type": "markdown",
   "metadata": {},
   "source": [
    "# Day-2"
   ]
  },
  {
   "cell_type": "markdown",
   "metadata": {},
   "source": [
    "### 커맨드\n",
    "1. **실행 단축키 (3번씩 실습)**\n",
    "    1. (필수) `Ctrl(Command)` + `Enter` : 해당 셀 실행\n",
    "    2. `Shift` + `Enter` : 해당 셀 실행 + 커서를 다음 셀로 이동\n",
    "    3. (필수) `Alt(Option)` + `Enter` : 해당 셀 실행 + 코드 불록 하단 추가\n",
    "2. **셀 삽입/삭제 관련 단축키(3번씩 실습)**\n",
    "    1. `Ctrl(Command)` + M A : 코드 셀 위에 삽입\n",
    "    2. `Ctrl(Command)` + M B : 코드 셀 아래 삽입\n",
    "    3. `Ctrl(Command)` + M D : 셀 지우기\n",
    "    4. `Ctrl(Command)` + M Y : 코드 셀로 변경\n",
    "    5. `Ctrl(Command)` + M M : 마크다운 셀로 변경\n",
    "    6. `Ctrl(Command)` + M Z : 실행 취소\n",
    "3. **자주 쓰는**\n",
    "    1. `Ctrl(Command)` + `Alt(Option)` + 화살표위아래 : 동시 수정\n",
    "    2. (자주) `Ctrl(Command)` + D : 같은 단어 찾아 동시 수정\n",
    "    3. `Ctrl(Command)` + `Shift` + L : 동일 단어를 전체로 찾아 동시 수정\n",
    "    4. `Alt(Option)` + `Shift` + 화살표위아래 : 해당내용을 위나 아래 복사해서 붙여넣기\n",
    "    5. `Alt(Option)` + 화살표위아래 : 해당 내용을 위나 아래로 보내기\n",
    "    6. (자주) `Ctrl(Command)` + `Alt(Option)` + 화살표위아래 : 위아래 동시 수정\n",
    "    7. (자주) Home, End : 문장의 양 끝\n",
    "    8. (필수) `Ctrl(Command)` + `/` : 주석\n",
    "    9. (필수) `Shift`(`Command`) + `Del` : 한 줄 지우기\n",
    "    10. (필수) `Tab`, `Ctrl` + `]` : 들여쓰기\n",
    "    11. (필수) `Shift` + `Tab`, `Ctrl` + `[` : 내어쓰기"
   ]
  },
  {
   "cell_type": "markdown",
   "metadata": {},
   "source": [
    "### 마크다운 \n",
    "#### 1. # 수 만큼 글자 크기\n",
    "#### 2. 강조 * _\n",
    "예)\n",
    "*강조* **강조** <br/> \n",
    "_강조_ __강조__\n",
    "#### 3. 목록\n",
    "예)\n",
    "1.\t\t\n",
    "2.\t\t\t\n",
    "3.\t\n",
    "*\t\n",
    "*\t\n",
    "*\t\n",
    "#### 4. 링크 [표시이름](링크 주소),![표시이름](링크 주소)\n",
    "예)\n",
    "[Google](http://www.google.com)<br/>\n",
    "![모연](./img/zoom_BG1.png)\n",
    "#### 5. 기타\n",
    "취소선 : ~~취소선~~\n",
    "\n",
    "---\n",
    "\n",
    "> 인용문\n",
    ">> 중첩된 인용문"
   ]
  },
  {
   "cell_type": "markdown",
   "metadata": {},
   "source": [
    "## 주석 코드"
   ]
  },
  {
   "cell_type": "code",
   "execution_count": null,
   "metadata": {},
   "outputs": [],
   "source": [
    "# 이것은 주석이입다.\n",
    "print(\"hello,word1!\")\n",
    "# print('hello,world2!') # 출력 안됨"
   ]
  },
  {
   "cell_type": "markdown",
   "metadata": {},
   "source": [
    "## 입력과 출력"
   ]
  },
  {
   "cell_type": "code",
   "execution_count": null,
   "metadata": {},
   "outputs": [],
   "source": [
    "age = input('나이를 입력해주세요.')\n",
    "print(age + age) # 입력받은 문자는 '문자열'로 처리되어 이어붙입니다.\n",
    "print(\"Hello\", \"World\", \"!\") # 출력은 , 로 구분함 > 출력에는 띄어쓰기로 연결됨\n",
    "print(\"010\", \"0000\", \"0000\", sep=\"-\",end='???') # sep 로 연결기호 변경 가능 end 로 다음 문장 연결)\n",
    "print(\"010\", \"0000\", \"0000\", sep=\"@\")"
   ]
  },
  {
   "cell_type": "markdown",
   "metadata": {},
   "source": [
    "## f-string"
   ]
  },
  {
   "cell_type": "code",
   "execution_count": null,
   "metadata": {},
   "outputs": [],
   "source": [
    "name = 'licat'\n",
    "age = 10\n",
    "print('제 이름은',name,end=\", \")\n",
    "print('제 나이는',age)\n",
    "print(f'제 이름은 {name}, 제 나이는 {age} 입니다.') # 변수를 쉽게 추가하는 방법"
   ]
  },
  {
   "cell_type": "markdown",
   "metadata": {},
   "source": [
    "## 변수\n",
    "1. **변수 이름 짓기**\n",
    "\t* 변수 이름은 알파벳(대문자와 소문자), 숫자, 언더스코어(_)로 구성됩니다.\n",
    "\t* 변수 이름은 숫자로 시작할 수 없습니다. 예를 들어 1ten / 100_test / 0은 변수 이름으로 사용할 수 없습니다.\n",
    "\t* 파이썬의 키워드(예: if, else, while 등)는 변수 이름으로 사용할 수 없습니다.\n",
    "\t* 변수는 대소문자 구분\n",
    "2. **관습**\n",
    "\t* 일반 변수는 주로 첫 문자를 소문자로 사용합니다.\n",
    "\t* 사용하지 않는 변수는 언더스코어(_)로 명명합니다. <br/>\n",
    "\t\t`예: 반복문에서 i, j, k와 같은 변수가 사용되지 않는다면 이러한 변수명을 언더스코어로 대체합니다.`\n",
    "\t* 클래스는 첫문자를 대문자로 하고 띄어쓰기가 일어날 때마다 대문자로 표시하는 파스칼표기법을 주로 사용합니다. <br/>\n",
    "\t\t`예: class UserProfile: , daily_user_count = 100`\n",
    "3. **변수의 타입 변수 정의 후, type(변수) 사용**\n",
    "\t* `int` : 양의 정수, 0, 음의 정수를 표현합니다. `예: 1, 5, 100, 0, -30, -45`\n",
    "\t* `float` : 소수점을 포함한 실수를 표현합니다. `예: 1.5, 5.6, 100.23, 0.0, -30.53245`\n",
    "\t* `complex` : 실수부와 허수부로 구성된 복소수를 표현합니다. `예: 1+2j, 3-4j`\n",
    "\t* `Boolean Type` : 논리 자료형 True, False을 표현합니다.\n",
    "\t* `Sequence Types` : 순서가 있으면서 순서에 해당하는 값을 읽어올 수 있는 인덱싱이나 일부 순서에 그룹을 잘라낼 수 있는 슬라이싱이 가능한 자료형입니다.\n",
    "\t* `str` : 문자의 나열로 이루어진 문자열을 표현합니다. `예: \"Hello\", 'Python'`\n",
    "\t* `list`: 순서가 있는 변경 가능(mutable)한 객체의 집합입니다. `예: [1, 2, 3], ['a', 'b', 'c']`\n",
    "\t* `tuple`: 순서가 있는 변경 불가능(immutable)한 객체의 집합입니다. `예: (1, 2, 3), ('a', 'b', 'c')`\n",
    "\t* `Collection Types` 혹은 컨테이너 타입(Container Types): 다른 자료형을 담을 수 있는 자료형입니다.\n",
    "\t* `list`: 순서가 있는 변경 가능(mutable)한 객체의 집합입니다. `예: [1, 2, 3], ['a', 'b', 'c']`\n",
    "\t* `tuple`: 순서가 있는 변경 불가능(immutable)한 객체의 집합입니다. `예: (1, 2, 3), ('a', 'b', 'c')`\n",
    "\t* `set`: 순서가 없고 중복을 허용하지 않는 변경 가능(mutable)한 객체의 집합입니다. `예: {1, 2, 3}, {'a', 'b', 'c'}`\n",
    "\t* `dict`: 키(key)와 값(value)의 쌍으로 이루어진 변경 가능(mutable)한 객체의 집합입니다. `예: {'a': 1, 'b': 2, 'c': 3}`\n",
    "\t* `None`: None, 값이 없음을 나타내는 특별한 타입입니다.\n",
    "\t* 이 외에도 파이썬에서는 함수`(function)`, 클래스`(class)`, 모듈`(module)` 등의 타입도 존재합니다. 각 타입의 변수를 선언하고 사용하는 예시를 살펴보겠습니다.\n",
    "4. **dir활용**\n",
    "\t* 출력 예)<br/>\n",
    "\t<class 'int'> # int라는 이름을 가지고 있군요!<br/>\n",
    "\t'__abs__', # 매직 메서드: 절대값이 되는군요!<br/>\n",
    "\t'__add__', # 매직 메서드: 더하기가 되는군요!<br/>\n",
    "\t'__and__', # 매직 메서드: 논리 연산이 되는군요!<br/>\n",
    "\t'__mul__', # 매직 메서드: 곱하기가 되는군요!<br/>\n",
    "\t'real', # 메서드: 실수부를 출력하는 메서드<br/>\n",
    "\t'to_bytes' # 메서드: 바이트로 변환하는 메서드\n",
    "5. **변수 삭제 del**\n",
    "\n",
    "    \n",
    "\t"
   ]
  },
  {
   "cell_type": "markdown",
   "metadata": {},
   "source": [
    "사용 불가 키워드"
   ]
  },
  {
   "cell_type": "code",
   "execution_count": null,
   "metadata": {},
   "outputs": [],
   "source": [
    "import keyword\n",
    "\n",
    "print(keyword.kwlist)"
   ]
  },
  {
   "cell_type": "markdown",
   "metadata": {},
   "source": [
    "변수 정의"
   ]
  },
  {
   "cell_type": "code",
   "execution_count": null,
   "metadata": {},
   "outputs": [],
   "source": [
    "name = 'Jun1'\n",
    "Name = 'Jun2'\n",
    "NAME = 'Jun3'\n",
    "print(name, Name, NAME)\n",
    "name = 'jun4' # 같은 변수 정의시 덮어쓰기 됨\n",
    "print(name)"
   ]
  },
  {
   "cell_type": "markdown",
   "metadata": {},
   "source": [
    "타입 확인"
   ]
  },
  {
   "cell_type": "code",
   "execution_count": null,
   "metadata": {},
   "outputs": [],
   "source": [
    "age = 10\n",
    "print(type(age)) # 출력: <class 'int'>\n",
    "\n",
    "name = \"licat\"\n",
    "print(type(name)) # 출력: <class 'str'>\n",
    "\n",
    "x = 10\n",
    "print(type(x))\n",
    "print(dir(x))\n",
    "del x\n",
    "print(x)  # NameError: name 'x' is not defined"
   ]
  },
  {
   "cell_type": "code",
   "execution_count": 27,
   "metadata": {},
   "outputs": [],
   "source": [
    "a = 10      # int, 정수형\n",
    "b = -1      # int, 정수형\n",
    "c = 0b110   # int, 2진수 정수형\n",
    "d = 0o56    # int, 8진수 정수형\n",
    "e = 0xAC    # int, 16진수 정수형\n",
    " \n",
    "f = 10.1    # float, 실수형\n",
    " \n",
    "g = 10 + 2j # complex, 복소수형\n",
    " \n",
    "h = 'Hello'  # str, 문자열\n",
    "i = \"10\"    # str, 문자열\n",
    " \n",
    "j = True    # bool, 불리언\n",
    " \n",
    "k = None    # NoneType\n",
    " \n",
    "l = [1, 2, 3, 4]       # list, 리스트\n",
    "m = ['one', 'two']     # list, 리스트\n",
    "n = (1, 2, 3, 4)       # tuple, 튜플\n",
    "o = ('one', 'two')     # tuple, 튜플\n",
    "p = {'one': 1, 'two': 2} # dict, 딕셔너리\n",
    "q = {1, 2, 3, 4}       # set, 집합\n",
    " \n",
    "def r():    # function, 함수\n",
    "    pass\n",
    " \n",
    "s = print   # built-in function, 내장 함수\n",
    "t = lambda x: x ** 2  # function, 람다 함수\n",
    "u = int     # type, 타입\n",
    " \n",
    "class Character:  # class, 클래스\n",
    "    pass\n",
    " \n",
    "hero = Character()    # instance, 인스턴스\n",
    "villain = Character() # instance, 인스턴스"
   ]
  },
  {
   "cell_type": "markdown",
   "metadata": {},
   "source": [
    "Python에서는 `bin(), oct(), hex()` 함수를 사용하여 10진수를 각각 `2진수, 8진수, 16진수`로 변환할 수 있습니다."
   ]
  },
  {
   "cell_type": "code",
   "execution_count": null,
   "metadata": {},
   "outputs": [],
   "source": [
    "x = 26\n",
    "print(bin(x))\n",
    "print(oct(x))\n",
    "print(hex(x))"
   ]
  },
  {
   "cell_type": "markdown",
   "metadata": {},
   "source": [
    "`id` 범위 `-5 ~ 256`, 그외 값을 변함"
   ]
  },
  {
   "cell_type": "code",
   "execution_count": null,
   "metadata": {},
   "outputs": [],
   "source": [
    "# -5 ~ 256\n",
    "x = 1000\n",
    "y = 1000\n",
    "a = 256\n",
    "b = 256\n",
    "print(id(x), id(y))\n",
    "print(id(a), id(b))"
   ]
  },
  {
   "cell_type": "markdown",
   "metadata": {},
   "source": [
    "실수의 특수 값 `inf_무한`, `e,E` 10에 승수"
   ]
  },
  {
   "cell_type": "code",
   "execution_count": null,
   "metadata": {},
   "outputs": [],
   "source": [
    "x = float(\"-inf\")\n",
    "y = float(\"inf\")\n",
    "float(\"inf\") > 10"
   ]
  },
  {
   "cell_type": "code",
   "execution_count": null,
   "metadata": {},
   "outputs": [],
   "source": [
    "print(2e3) # 지수표현, float형\n",
    "print(2E3)\n",
    "\n",
    "print(2 * (10 ** 3)) # int 형"
   ]
  },
  {
   "cell_type": "markdown",
   "metadata": {},
   "source": [
    "# Day-3"
   ]
  },
  {
   "cell_type": "markdown",
   "metadata": {},
   "source": [
    "#### 문자열(`str`)\n",
    "1. `변수명[start(인덱스) : stop(인덱스) : step(인덱스)]` 슬라이싱\n",
    "2. `변수명.메서드()`\n",
    "\t* `lower`( ) 전체 *`소`*문자\n",
    "\t* `upper`( ) 전체 *`대`*문자\n",
    "\t* `find` ( ) index ( ) 문자열을 *`찾아주는`* method *`찾을 수 없는 문자열일 경우 find는 -1을 반환하는 반면, index는 error를 반환합니다.`*\n",
    "\t* `count`( ) 문자열이나 숫자를 *`셀`* 때 사용\n",
    "\t* `strip`( ) 양쪽 `공백 + @`을 *`제거`*하는 method\n",
    "\t* `replace`( ) `원하는 문자열`을 다른 문자열로 *`대체`*할 때 사용하는 *`method 대소문자 구분`*\n",
    "\t* `split`( ) `()` 내용을 기준으로 문자열 *`나누기`*\n",
    "\t* `.join` ( ) 리스트 [] 내용을 .join 앞에의 내용으로 하나의 문자열로 합치기 *`예문 확인`*\n",
    "\t* `format`( )  메서드는 문자열 내에서 변수의 값을 대입할 때 사용하는 메서드입니 *`예문 확인`*\n",
    "\t* `isalnum`( )  `al`는 *`알파벳`*, `num`은 *`숫자`*, **특수문자가 들어가 있으면 `False`, 한글이나 영어, 일본어, 중국어, 숫자 등이 들어가 있으면 `True`.**\n",
    "\t* `isdigit`( ) `문자열 숫자 만` 인지 확인.\n",
    "\t* `isalpha`( ) `문자열 문자 만` 인지 확인.\n",
    "\t* `isascii`( ) `아스키 코드표` 안에 있는비 확인.\n",
    "\t* `rjust`( **지정 길이 `:` 지정 문자** ) 문자열을 지정한 길이로 맞추고, 왼쪽을 지정한 문자로 채우는 메서드 *`예문 확인`*\n",
    "\t* `ljust`( **지정 길이 `:` 지정 문자** ) 문자열을 지정한 길이로 맞추고, 오른쪽을 지정한 문자로 채우는 메서드\n",
    "\t* `center`( **지정 길이 `:` 지정 문자** ) 문자열을 지정한 길이로 맞추고, 양쪽 지정한 문자로 채우는 메서드\n",
    "\t* `zfill`( **지정 길이** ) 문자열을 지정한 길이로 맞추고, 왼쪽을 0로 채우는 메서드, type 문자열로 변경\n",
    "\t* `maketrans + translate`() `여러개 문자열`을 다른 문자열로 *`대체`* 혹은 삭제 *`예문 학인`* **연습 필요**\n",
    "\t"
   ]
  },
  {
   "cell_type": "markdown",
   "metadata": {},
   "source": [
    "슬라이싱 테스트"
   ]
  },
  {
   "cell_type": "code",
   "execution_count": null,
   "metadata": {},
   "outputs": [],
   "source": [
    "j = \"\"\"안녕하세요.\n",
    "저는 위니브의 대표 이호준입니다.\n",
    "파이썬 참 좋아요.\n",
    "여러분 정말 잘 선택하셨어요.\n",
    "\"\"\"\n",
    "print(i)\n",
    "s = 'weniv CEO licat' # S[]<문자열의 순번 0부터 시작 \n",
    "print(s[0]) # 출력 : '위'\n",
    "print(s[-1]) # 출력 : '!'\n",
    "print(s[0:5]) # 출력 : weniv # 첫번째 예제\n",
    "print(s[6:]) # 출력 : CEO licat # 두번째 예제\n",
    "print(s[:]) # 출력 : weniv CEO licat # 세번째 예제\n",
    "print(s[::-1]) # 출력 : tacil OEC vinew # 네번째 예제\n",
    "print(s[::2]) # 출력 : wnvCOlct # 다섯번째 예제\n",
    "c = 'zoom_BG1.png'\n",
    "print(c[-3:])\n",
    "print(c[-1:-4:-1])\n",
    "print(c[-4::1])\n"
   ]
  },
  {
   "cell_type": "markdown",
   "metadata": {},
   "source": [
    "메서드 strip() 테스트"
   ]
  },
  {
   "cell_type": "code",
   "execution_count": null,
   "metadata": {},
   "outputs": [],
   "source": [
    "'    ,!!  hello world   '.strip(' ,!')\n",
    "#양쪽의 공백과 ',!'을 제거해주는 method"
   ]
  },
  {
   "cell_type": "markdown",
   "metadata": {},
   "source": [
    "join() 테스트"
   ]
  },
  {
   "cell_type": "code",
   "execution_count": null,
   "metadata": {},
   "outputs": [],
   "source": [
    "s = ['weniv', 'CEO', 'licat']\n",
    "print('-'.join(s)) #리스트를 하나의 문자열로 합치기\n",
    "c = '010 1000 1000'\n",
    "'-'.join(c.split()) #공백을 기준으로 문자열을 나눈 후 '-'로 합치기"
   ]
  },
  {
   "cell_type": "markdown",
   "metadata": {},
   "source": [
    "format() 테스트 > f-string 로 대체"
   ]
  },
  {
   "cell_type": "code",
   "execution_count": null,
   "metadata": {},
   "outputs": [],
   "source": [
    "name = 'licat'\n",
    "age = 29\n",
    "print('제 이름은 {}이고, 나이는 {}살입니다.'.format(name, age))"
   ]
  },
  {
   "cell_type": "markdown",
   "metadata": {},
   "source": [
    "licat( : ) 테스트"
   ]
  },
  {
   "cell_type": "code",
   "execution_count": null,
   "metadata": {},
   "outputs": [],
   "source": [
    "s = 'licat'\n",
    "s.rjust(10, '-')"
   ]
  },
  {
   "cell_type": "markdown",
   "metadata": {},
   "source": [
    "`maketrans + translate` 테스트"
   ]
  },
  {
   "cell_type": "code",
   "execution_count": null,
   "metadata": {},
   "outputs": [],
   "source": [
    "# 두 개의 인수를 사용하는 예제\n",
    "intab = \"aeiou\"\n",
    "outtab = \"12345\"\n",
    "translation_table = str.maketrans(intab, outtab)\n",
    "translated_string = \"hello world\".translate(translation_table)\n",
    "print(translated_string)  # h2ll4 w4rld\n",
    "\n",
    "# 세 개의 인수를 사용하는 예제\n",
    "intab = \"aeiou\"\n",
    "outtab = \"12345\"\n",
    "removetab = \"xyz\"\n",
    "translation_table = str.maketrans(intab, outtab, removetab)\n",
    "translated_string = \"hello xyz world\".translate(translation_table)\n",
    "print(translated_string)  # h2ll4  w4rld (xyz 문자가 제거됨)\n",
    "# 사전을 사용하는 예제\n",
    "translation_table = str.maketrans({\n",
    "    'a': '1',\n",
    "    'e': '2',\n",
    "    'i': '3',\n",
    "    'o': '4',\n",
    "    'u': '5',\n",
    "    'y': None  # 제거할 문자\n",
    "})\n",
    "translated_string = \"hello world\".translate(translation_table)\n",
    "print(translated_string)  # h2ll4 w4rld"
   ]
  },
  {
   "cell_type": "markdown",
   "metadata": {},
   "source": [
    "### 이스케이프 문자\n",
    "\n",
    "* \\\": 큰따옴표를 나타냅니다.\n",
    "* \\': 작은따옴표를 나타냅니다.\n",
    "* \\\\: 백슬래시를 나타냅니다.\n",
    "\n",
    "* \\n: 새로운 줄바꿈\n",
    "* \\t: 탭 간격\n",
    "* \\r: 커서를 현재 줄의 처음으로 이동합니다"
   ]
  },
  {
   "cell_type": "code",
   "execution_count": null,
   "metadata": {},
   "outputs": [],
   "source": [
    "# ChatGPT에서 가져옴 \n",
    "import time\n",
    "import sys\n",
    "\n",
    "def progress_bar(iteration, total, length=50):\n",
    "    percent = (\"{0:.1f}\").format(100 * (iteration / float(total)))\n",
    "    filled_length = int(length * iteration // total)\n",
    "    bar = '█' * filled_length + '-' * (length - filled_length)\n",
    "    sys.stdout.write(f'\\r|{bar}| {percent}%')\n",
    "    sys.stdout.flush()\n",
    "    if iteration == total:\n",
    "        print()\n",
    "\n",
    "# 사용 예시\n",
    "total_iterations = 100\n",
    "for i in range(total_iterations + 1):\n",
    "    progress_bar(i, total_iterations)\n",
    "    time.sleep(0.1)"
   ]
  },
  {
   "cell_type": "markdown",
   "metadata": {},
   "source": [
    "### 실습"
   ]
  },
  {
   "cell_type": "markdown",
   "metadata": {},
   "source": [
    "1. **사용자 정보 입력받기**\n",
    "    - 사용자의 이름, 나이, 그리고 좋아하는 색깔을 차례로 입력받아서, 입력받은 정보를 출력하는 간단한 프로그램을 만들어보세요.\n",
    "    - 이 프로그램은 `input()` 함수를 사용하여 사용자의 이름, 나이, 좋아하는 색깔을 입력받습니다.\n",
    "    - 입력받은 각 정보는 변수에 저장된 후 `print()` 함수로 출력됩니다.\n",
    "    - 추가적으로 입력된 나이를 숫자로 변환하여 연산에 사용할 수 있습니다 (예: 나이를 더하거나 빼기 등)."
   ]
  },
  {
   "cell_type": "code",
   "execution_count": null,
   "metadata": {},
   "outputs": [],
   "source": [
    "name = input(\"이름을 입력하세요\")\n",
    "age = input(\"나이를 입력하세요\")\n",
    "color = input(\"좋아하는 색깔 입력하세요\")\n",
    "print(f\"이름:{name}나이:{age}좋아하는 색깔:{color}\" )"
   ]
  },
  {
   "cell_type": "markdown",
   "metadata": {},
   "source": [
    "- 사용자로부터 좋아하는 음식, 영화, 취미 세 가지를 입력받아 요약해 출력하는 프로그램을 만들어보세요.\n",
    "- 좋아하는 음식, 영화, 취미에 대한 정보를 입력받아 이를 요약하여 출력합니다.\n",
    "- `input()` 함수로 각 정보를 받고, 입력받은 정보를 바탕으로 요약 문장을 출력합니다."
   ]
  },
  {
   "cell_type": "code",
   "execution_count": null,
   "metadata": {},
   "outputs": [],
   "source": [
    "movie = input(\"좋아하는 영화 입력하세요\")\n",
    "food = input(\"좋아하는 음식 입력하세요\")\n",
    "hobby = input(\"좋아하는 취미 입력하세요\")\n",
    "print(f\"영화:{movie}음식:{food}취미:{hobby}\" )"
   ]
  },
  {
   "cell_type": "markdown",
   "metadata": {},
   "source": [
    "### 실습 2: 문자열 슬라이싱과 데이터 처리\n",
    "\n",
    "전화번호를 입력받아 지역번호만 추출하는 프로그램을 작성해보세요.\n",
    "\n",
    "- `input()` 함수로 전화번호를 입력받습니다.\n",
    "- `split()` 메서드를 사용하여 '-'를 구분자로 하여 문자열을 나눕니다.\n",
    "- 리스트 인덱싱을 통해 첫 번째 요소(지역번호)를 추출합니다.\n",
    "- 입력받은 전화번호 형식이 올바른지 검사하는 간단한 검증 로직을 추가할 수 있습니다."
   ]
  },
  {
   "cell_type": "code",
   "execution_count": null,
   "metadata": {},
   "outputs": [],
   "source": [
    "PN = input(\"전화번호를 입력하세요\")"
   ]
  },
  {
   "cell_type": "markdown",
   "metadata": {},
   "source": [
    "(강사) 김진환 — 오늘 오전 11:09\n",
    "### 실습 4: 특정 단어 치환\n",
    "\n",
    "사용자로부터 문장을 입력받아, 특정 단어를 다른 단어로 치환해 출력해보세요.\n",
    "\n",
    "- 사용자로부터 문장과 치환하고 싶은 단어, 그리고 새로운 단어를 입력받습니다.\n",
    "- `replace()` 메서드를 사용하여 문장 내의 특정 단어를 새로운 단어로 치환합니다.\n",
    "- `replace()` 함수는 원본 문자열을 변경하지 않고 새로운 문자열을 반환함을 유의하세요.\n",
    "- 대소문자 구분 없이 치환하려면 입력받은 문장과 치환 대상 단어를 모두 소문자 또는 대문자로 변환한 후 처리할 수 있습니다."
   ]
  },
  {
   "cell_type": "code",
   "execution_count": null,
   "metadata": {},
   "outputs": [],
   "source": [
    "user_input = input(\"수정하고 싶은 문장을 입력하세요\")\n",
    "user_replace = input(\"수정해야 할 단어 입력하세요\")\n",
    "user_new = input(\"수정 내용 입력하세요\")\n",
    "\n",
    "print(user_input.replace(user_replace,user_new))"
   ]
  },
  {
   "cell_type": "markdown",
   "metadata": {},
   "source": [
    "### 논리 자료형 bool\n",
    "* `True`: 참을 나타냅니다. `1`과 같은 값으로 취급됩니다.\n",
    "* `False`: 거짓을 나타냅니다. `0`과 같은 값으로 취급됩니다.\n",
    "* `비교 연산`에 사용\n",
    "### None 자료형\n",
    "[None]\n",
    " `비어 있다`, `아무것도 없다`, `정보가 없다`를 표현하고 싶을 때 사용하는 것이 `None`입니다."
   ]
  },
  {
   "cell_type": "code",
   "execution_count": null,
   "metadata": {},
   "outputs": [],
   "source": [
    "x = None\n",
    "\n",
    "\n",
    "print(x == None)    # True, 하지만 이 방식은 권장되지 않습니다.\n",
    "print(x is None)    # True, 이 방식을 사용하여 None을 확인하는 것이 좋습니다."
   ]
  },
  {
   "cell_type": "markdown",
   "metadata": {},
   "source": [
    "### 문자열의 메서드 체이닝\n",
    "* 메서드를 `.` 으로 연결하는것\n",
    "* `한줄`로 코딩하는 것을 권장함 -`2개 혹은 3개 연속`"
   ]
  },
  {
   "cell_type": "code",
   "execution_count": null,
   "metadata": {},
   "outputs": [],
   "source": [
    "sentence = '  Hello, World!  '\n",
    "result = sentence.strip().lower().replace('world', 'python')\n",
    "# 1번 스탭 : sentence.strip() == 'Hello, World!'\n",
    "# 2번 스탭 : 'Hello, World!'.lower() == 'hello, world!'\n",
    "# 3번 스탭 : 'hello, world!'.replace('world', 'python')\n",
    "print(result)  # 'hello, python!'"
   ]
  },
  {
   "cell_type": "markdown",
   "metadata": {},
   "source": [
    "### 형변환\n",
    "\n",
    "* int()\t정수로 변환\n",
    "* str()\t문자열로 변환\n",
    "* float()\t실수로 변환\n",
    "* list()\t리스트로 변환\n",
    "* tuple()\t튜플로 변환\n",
    "* dict()\t딕셔너리로 변환\n",
    "* set()\t셋으로 변환"
   ]
  },
  {
   "cell_type": "code",
   "execution_count": null,
   "metadata": {},
   "outputs": [],
   "source": [
    "data = [('name','licat'),('age',10)]\n",
    "d = dict(data)\n",
    "d"
   ]
  },
  {
   "cell_type": "markdown",
   "metadata": {},
   "source": [
    "### 연습문제\n",
    "\n",
    "* 문제1 : x = 100 <-\n",
    "* 문제2 : 3번,5번,#6번\n",
    "* 문제3 : user_input = input('종복 출력 문장을 입력하세요')<br/>\n",
    "print(user_input*2)"
   ]
  },
  {
   "cell_type": "markdown",
   "metadata": {},
   "source": [
    "### 연산자\n",
    "* 연산자는 프로그래밍에서 데이터를 처리하고 분석하는 데 쓰이는 기호나 키워드입니다.\n",
    "* 종류에는 \n",
    "\t1. 산술연산자`(+,-,*,/,%,**) 타입 동일, dict()딕셔너리 사용 불가, -- = + 마이너스 2개는 플러스 이다, / 소수, // 정수`\n",
    "\t2. 대입연산자(할당연산자 = ) \n",
    "\t\t* 할당 연산자의 우선순위는 대부분의 다른 연산자들보다 낮음\n",
    "\t3. 비교연산자`(==,!=,<,<=,>,>=,math.isclose())`\n",
    "\t4. 논리연산자`(and곱셈으로 간주,or덧셈으로 간주,not주어진 조건의 반대 값)` 단락평가 중요..\n",
    "\t\t* 단락 평가: 자원 절약, and 앞 false 뒤 생략, or 앞 true 뒤 생략\n",
    "\t\t* not, and, or는 순서대로 우선순위를 가지고 있습니다. not이 가장 먼저 실행되며 그 다음으로는 and, or 순\n",
    "\t5. 비트연산자\n",
    "\t6. 멤버연산자 `(in, not in)`\n",
    "\t\t* 어떤 값이 목록 안에 있는지 확인해주는 기능입니다\n",
    "\t7. 식별연산자 `(is,is not)`\n",
    "\t\t* 주소를 비교하는 연산자\n",
    "\t\t* id(data) 로 주소 확인\n",
    "\t8. ![우선순위](./img/우선순위표.PNG)\n",
    "\t\n"
   ]
  },
  {
   "cell_type": "markdown",
   "metadata": {},
   "source": [
    "# Day-4"
   ]
  },
  {
   "cell_type": "markdown",
   "metadata": {},
   "source": [
    "* 240621 News\n",
    "    1. `앤트로픽`,'클로드 3.5 소네트' 출시\n",
    "    2. 영국서 `AI각본` 영화 상영 취소\n",
    "* 지난 강의 이해도 조사 -> 70%\n",
    "    1. 추천 자료 - [초보자를 위한 파이썬 300제](https://wikidocs.net/book/922) - 링크<br/>\n",
    "    2. `ChatGPT` 활용, 연습문제 생성\n",
    "* 금일 강의\n",
    "    1. 리스트(list)\n",
    "    2. 튜플(tuple)\n",
    "    3. 딕셔너리(dict)\n",
    "    4. 셋(set)\n",
    "\n"
   ]
  },
  {
   "cell_type": "markdown",
   "metadata": {},
   "source": [
    "### list\n",
    "\n",
    "**리스트(list)**\n",
    "   * 가변적(mutable)이며 순서가 있는 시퀀스 자료형입니다.\n",
    "   * 대괄호([]) 안에 쉼표(,)로 데이터를 구분하여 저장합니다.\n",
    "   * 메서드로는 append(), clear(), copy(), count(), extend(), index(), insert(), pop(), remove(), reverse(), sort(), sorted() 등이 있습니다.\n",
    "\n",
    "**추가 설명**\n",
    "   * 공백을 포함한 리스트 예시: `[1, '', 3]`\n",
    "   * 다차원 리스트 예시: `[[1, 2], [3, 4]]`\n",
    "   * 리스트는 하드웨어 자원이 허용하는 한 저장 공간에 데이터를 넣어주고, 순서를 정수(0부터 시작)로 표현합니다. 리스트의 각 요소는 메모리 주소(ID)를 가지고 있습니다.\n",
    "\n",
    "**리스트 메서드 설명**\n",
    "   * **append()**: 리스트의 끝에 값을 추가합니다.\n",
    "   * **clear()**: 리스트의 모든 항목을 삭제합니다.\n",
    "   * **copy()**: 리스트의 얕은 복사를 생성합니다. 이는 원본 리스트의 참조를 공유하지만, 새로운 객체를 생성합니다.\n",
    "   * **count()**: 특정 값이 리스트에 몇 번 포함되어 있는지 카운트합니다.\n",
    "   * **extend()**: 리스트에 다른 리스트나 순회 가능한(iterable) 항목들을 추가합니다.\n",
    "   * **index()**: 주어진 값을 찾아 해당 값의 위치(인덱스)를 반환합니다. 값이 없으면 ValueError가 발생합니다.\n",
    "   * **insert()**: 주어진 위치에 값을 삽입합니다.\n",
    "   * **pop()**: 리스트의 특정 위치에 있는 값을 반환하고 해당 값을 리스트에서 삭제합니다. 위치를 지정하지 않으면 마지막 항목을 반환하고 삭제합니다.\n",
    "   * **remove()**: 리스트에서 첫 번째로 발견되는 주어진 값을 삭제합니다. 값이 없으면 ValueError가 발생합니다.\n",
    "   * **reverse()**: 리스트의 항목들의 순서를 뒤집습니다. 원래의 리스트를 변경하고, 반환 값은 None입니다.\n",
    "   * **reversed()**: 역순으로 새로운 이터러블 객체를 반환하는 함수입니다. 원래의 리스트는 변경되지 않습니다.\n",
    "   * **sort()**: 리스트 자체를 정렬합니다. 원래의 리스트를 변경하고, 반환 값은 None입니다.\n",
    "   * **sorted()**: 새로운 리스트를 반환하는 내장 함수입니다. 원래의 리스트는 변경되지 않습니다.\n",
    "\n",
    "### tuple\n",
    "  \n",
    "**튜플(tuple)**\n",
    "   * 한 번 생성된 튜플은 내부의 값 변경이 불가능(immutable)합니다. 이는 튜플의 요소를 수정, 추가, 삭제할 수 없음을 의미합니다.\n",
    "   * 튜플은 소괄호()를 사용하여 생성하며, 그 안에 쉼표(,)로 구분된 데이터들을 넣어 저장합니다.\n",
    "   * 공백이 포함된 튜플 예시: `('a', '', 'c')`\n",
    "   * 데이터 뒤에 쉼표가 필수적인 이유는 하나의 요소로 구성된 튜플을 명확히 구분하기 위해서입니다. 예를 들어, `('a')`는 문자열 `'a'`로 인식되지만, `('a',)`는 요소가 하나인 튜플로 인식됩니다.\n",
    "   * 데이터 보호 측면에서 튜플은 한 번 생성된 후 내부 요소를 변경할 수 없기 때문에 데이터의 불변성을 보장합니다. 이는 데이터의 신뢰성을 유지하는 데 도움이 됩니다.\n",
    "   * 리스트에 비해 처리 속도가 빠른 경우가 있으나, 이는 사용하는 컨텍스트에 따라 달라질 수 있습니다.\n",
    "\n",
    "**튜플 메서드**\n",
    "\n",
    "   * **count()**: 튜플 내에서 특정 값이 나타나는 횟수를 반환합니다. 만약 해당 값이 없으면 0을 반환합니다.\n",
    "   * **index()**: 특정 값이 튜플 내에서 처음으로 나타나는 위치의 인덱스를 반환합니다. 만약 해당 값이 없으면 ValueError가 발생합니다.\n",
    "\n",
    "### dictionary\n",
    "\n",
    "**딕셔너리(dict)**\n",
    "   * 딕셔너리는 키(key)와 그에 해당하는 값(value)의 쌍으로 구성됩니다.\n",
    "   * 중괄호({})를 사용하여 생성하며, 각 키와 값 사이에는 콜론(:)으로 구분하고, 각 쌍은 쉼표(,)로 구분합니다.`{'key1': value1, 'key2': value2}`\n",
    "   * 빈 딕셔너리는 중괄호 {} 또는 `dict()` 함수를 사용하여 생성할 수 있습니다.\n",
    "   * 딕셔너리는 키를 기준으로 데이터를 저장하고 검색하기 때문에 키는 유일해야 합니다. 만약 중복된 키를 사용하면 나중에 추가된 값이 이전 값을 대체합니다.\n",
    "\n",
    "**추가 설명**\n",
    "   * 딕셔너리는 키(key)의 집합과 값(value)의 집합으로 이루어진 자료구조입니다. 각 키는 해당하는 값을 가리키며, 이는 상자(값)를 가리키는 키링(keyring) 개념으로 이해할 수 있습니다.\n",
    "   * 딕셔너리는 해시 테이블을 기반으로 하여 효율적인 데이터 검색과 수정을 지원합니다.\n",
    "   * 딕셔너리는 순서가 없는 자료형이므로 특정 순서로 데이터를 저장하지 않습니다. 이는 키-값 쌍이 삽입된 순서와는 무관하게 검색할 수 있다는 의미입니다.\n",
    "\n",
    "**딕셔너리 메서드**\n",
    "\n",
    "   * **clear()**: 딕셔너리의 모든 항목을 제거합니다. 딕셔너리는 빈 상태가 됩니다.\n",
    "   * **copy()**: 딕셔너리의 얕은 복사를 생성합니다. 이는 원본 딕셔너리의 참조를 공유하지 않고 새로운 객체를 생성합니다.\n",
    "   * **fromkeys(seq[, value])**: 주어진 seq(시퀀스)의 각 요소를 키로 사용하여 딕셔너리를 생성합니다. value를 지정하면 각 키에 해당하는 초기값으로 설정됩니다. 주의할 점으로, zip 함수를 사용해 여러 시퀀스를 동시에 딕셔너리로 변환할 수 있습니다.\n",
    "   * **get(key[, default])**: 딕셔너리에서 특정 key의 값을 반환합니다. key가 없으면 default 값을 반환합니다. default를 지정하지 않으면 None을 반환하며, 딕셔너리에 없는 키에 접근해도 KeyError가 발생하지 않습니다.\n",
    "   * **items()**: 딕셔너리의 모든 키-값 쌍을 (키, 값) 형태의 튜플로 묶어서 반환합니다.\n",
    "   * **keys()**: 딕셔너리의 모든 키들을 반환합니다.\n",
    "   * **pop(key[, default])**: 주어진 key에 해당하는 값을 삭제하고 반환합니다. key가 없으면 default를 반환하며, default를 지정하지 않으면 KeyError가 발생합니다.\n",
    "   * **popitem()**: 딕셔너리에서 마지막 키-값 쌍을 제거하고 해당 키-값 쌍을 튜플로 반환합니다. 딕셔너리가 비어있으면 KeyError가 발생할 수 있습니다.\n",
    "   * **setdefault(key[, default])**: 주어진 key가 딕셔너리에 있으면 해당 값을 반환하고, 없으면 default를 값으로 설정하고 추가합니다.\n",
    "   * **update([other])**: 다른 딕셔너리 또는 (키, 값) 쌍을 사용하여 기존 딕셔너리를 업데이트합니다. 주어진 딕셔너리 또는 반복 가능한 객체의 키-값 쌍을 추가하거나 업데이트합니다.\n",
    "   * **values()**: 딕셔너리의 모든 값들을 반환합니다. 이 메서드의 반환값은 dict_values 객체입니다. 이 객체는 순회 가능하며, 딕셔너리의 값들에 접근할 수 있습니다. 그러나 리스트처럼 모든 리스트 메서드를 지원하지는 않습니다.\n",
    "\n",
    "### set\n",
    "\n",
    "**셋(set)**\n",
    "   * 셋은 집합을 나타내며, 중복되지 않는 항목들의 모음입니다.\n",
    "   * 중괄호({})를 사용하여 생성하며, 각 요소는 쉼표(,)로 구분됩니다.`{1, 2, 3, 4}`\n",
    "\n",
    "**특징**\n",
    "   * **중복 안됨**: 셋은 동일한 요소가 중복되지 않습니다. 이미 있는 요소를 여러 번 추가하더라도 하나의 요소만 유지됩니다.\n",
    "   * **순서 없음**: 셋은 요소들이 순서대로 저장되지 않습니다. 따라서 인덱스로 요소에 접근할 수 없습니다.\n",
    "   \n",
    "**셋의 연산**\n",
    "   * **합집합(|)**: 두 셋의 모든 요소를 합친 새로운 셋을 생성합니다.\n",
    "   * **교집합(&)**: 두 셋에 모두 있는 요소들로 새로운 셋을 생성합니다.\n",
    "   * **차집합(-)**: 첫 번째 셋에서 두 번째 셋의 요소를 제거한 새로운 셋을 생성합니다.\n",
    "\n",
    "**셋 메서드**\n",
    "\n",
    "   * **add(element)**: 셋에 새로운 요소를 추가합니다. 이미 존재하는 요소를 추가하면 아무런 변화가 없습니다.\n",
    "   * **remove(element)**: 셋에서 주어진 요소를 제거합니다. 요소가 셋에 없으면 KeyError가 발생합니다.\n",
    "   * **discard(element)**: 셋에서 주어진 요소를 제거합니다. 요소가 셋에 없어도 에러가 발생하지 않습니다.\n",
    "   * **pop()**: 셋에서 임의의 요소를 제거하고 반환합니다. 셋이 비어있으면 KeyError가 발생할 수 있습니다.\n",
    "   * **clear()**: 셋의 모든 요소를 제거합니다.\n",
    "   * **copy()**: 셋의 얕은 복사를 생성합니다.\n",
    "   * **union(other_set)** 또는 **|**: 셋과 다른 셋의 합집합을 반환합니다.\n",
    "   * **intersection(other_set)** 또는 **&**: 셋과 다른 셋의 교집합을 반환합니다.\n",
    "   * **difference(other_set)** 또는 **-**: 셋에서 다른 셋의 요소를 제외한 차집합을 반환합니다.\n",
    "   * **symmetric_difference(other_set)** 또는 **^**: 셋과 다른 셋의 대칭 차집합을 반환합니다.\n",
    "   * **issubset(other_set)**: 셋이 다른 셋의 부분집합인지 여부를 반환합니다.\n",
    "   * **issuperset(other_set)**: 셋이 다른 셋을 포함하는지 여부를 반환합니다.\n",
    "\n",
    "### 함수\n",
    "\n",
    "**함수**\n",
    "\n",
    "   * 함수는 코드를 모듈화하여 재사용성을 높이는데 사용\n",
    "   * `def` 키워드를 이용하여 정의합니다\n",
    "   * 함수는 매개변수를 받아들이고, 스페이스 4개로 들여쓴 코드 블록으로 구성됩니다.\n",
    "   * 출력은 `print`로 하며, 반환 값이 필요한 경우 `return`을 사용합니다. \n",
    "`이러한 규칙은 파이썬의 스타일 가이드인 PEP-8에서 권장하고 있습니다."
   ]
  },
  {
   "cell_type": "markdown",
   "metadata": {},
   "source": [
    "#### 리스트 양식"
   ]
  },
  {
   "cell_type": "code",
   "execution_count": 1,
   "metadata": {},
   "outputs": [],
   "source": [
    "x = [1, 2, 3] #CSV 파일과 비슷 ,\n",
    "y = ['apple', 'banana', 'cherry']\n",
    "z = [1, [2], 3] in [2]"
   ]
  },
  {
   "cell_type": "markdown",
   "metadata": {},
   "source": [
    "#### 리스트 데이터 수정"
   ]
  },
  {
   "cell_type": "code",
   "execution_count": null,
   "metadata": {},
   "outputs": [],
   "source": [
    "a = [1, 2, 3, 4, 5]\n",
    "a[0] = 10000\n",
    "print(a)"
   ]
  },
  {
   "cell_type": "markdown",
   "metadata": {},
   "source": [
    "#### 리스트 행열 구분"
   ]
  },
  {
   "cell_type": "code",
   "execution_count": null,
   "metadata": {},
   "outputs": [],
   "source": [
    "b = [[10, 20, 30], [1, 2, 3]]\n",
    "print(b[1][2]) # 출력: 3"
   ]
  },
  {
   "cell_type": "markdown",
   "metadata": {},
   "source": [
    "#### 리스트 인덱싱"
   ]
  },
  {
   "cell_type": "code",
   "execution_count": null,
   "metadata": {},
   "outputs": [],
   "source": [
    "l = [1, 2, 3, 4, 5]\n",
    "print(l[0]) # 출력: 1\n",
    "print(l[3]) # 출력: 4\n",
    "print(l[-1]) # 출력: 5\n",
    "print(l[-3]) # 출력: 3"
   ]
  },
  {
   "cell_type": "markdown",
   "metadata": {},
   "source": [
    "#### 리스트 슬라이싱"
   ]
  },
  {
   "cell_type": "code",
   "execution_count": null,
   "metadata": {},
   "outputs": [],
   "source": [
    "l = [1, 2, 3, 4, 5]\n",
    "print(l[1:4]) # 출력: [2, 3, 4]\n",
    "print(l[:])     # 출력: [1, 2, 3, 4, 5]\n",
    "print(l[::-1])  # 출력: [5, 4, 3, 2, 1]\n",
    "print(l[::2])   # 출력: [1, 3, 5]\n",
    "print(l[0:4][::-1]) # 출력: [3, 2, 1] 체인처럼 처리 가능"
   ]
  },
  {
   "cell_type": "markdown",
   "metadata": {},
   "source": [
    "#### 1. 리스트 append"
   ]
  },
  {
   "cell_type": "code",
   "execution_count": null,
   "metadata": {},
   "outputs": [],
   "source": [
    "a = [1, 2, 3]\n",
    "a.append(10)\n",
    "print(a)  # 출력: [1, 2, 3, 10]"
   ]
  },
  {
   "cell_type": "markdown",
   "metadata": {},
   "source": [
    "#### 2. 리스트 clear"
   ]
  },
  {
   "cell_type": "code",
   "execution_count": null,
   "metadata": {},
   "outputs": [],
   "source": [
    "a = [1, 2, 3]\n",
    "a.clear()\n",
    "print(a)  # 출력: []"
   ]
  },
  {
   "cell_type": "markdown",
   "metadata": {},
   "source": [
    "#### 3. 리스트 copy "
   ]
  },
  {
   "cell_type": "code",
   "execution_count": null,
   "metadata": {},
   "outputs": [],
   "source": [
    "a = [1, 2, 3]\n",
    "b = a.copy()\n",
    "b[0] = 10000\n",
    "print(a)  # 출력: [1, 2, 3]\n",
    "print(b)  # 출력: [10000, 2, 3]\n",
    "l = [10, 20, 30]\n",
    "e = l\n",
    "ll = l[:] # 슬라이싱 커피랑 비슷한 효과\n",
    "# ll = l.copy() 슬라이싱 + 커피 할때 id까지 전체 복사됨\n",
    "print(id(e),id(l))\n",
    "print(id(ll), id(l))\n",
    "l[0] = 1000\n",
    "print(l, ll) # 출력: [1000, 20, 30] [10, 20, 30]"
   ]
  },
  {
   "cell_type": "markdown",
   "metadata": {},
   "source": [
    "#### 4. 리스트 count"
   ]
  },
  {
   "cell_type": "code",
   "execution_count": null,
   "metadata": {},
   "outputs": [],
   "source": [
    "a = [1, 1, 2, 3, 1]\n",
    "print(a.count(1))  # 출력: 3"
   ]
  },
  {
   "cell_type": "markdown",
   "metadata": {},
   "source": [
    "#### 5. 리스트 extend"
   ]
  },
  {
   "cell_type": "code",
   "execution_count": null,
   "metadata": {},
   "outputs": [],
   "source": [
    "a = [1, 2, 3]\n",
    "a.extend([4, 5, 6])\n",
    "a.append([4, 5, 6])# 차이\n",
    "print(a)  # 출력: [1, 2, 3, 4, 5, 6]"
   ]
  },
  {
   "cell_type": "markdown",
   "metadata": {},
   "source": [
    "#### 6. 리스트 index"
   ]
  },
  {
   "cell_type": "code",
   "execution_count": null,
   "metadata": {},
   "outputs": [],
   "source": [
    "a = [10, 20, 30, 40]\n",
    "print(a.index(30))  # 출력: 2"
   ]
  },
  {
   "cell_type": "markdown",
   "metadata": {},
   "source": [
    "#### 7. 리스트 insert"
   ]
  },
  {
   "cell_type": "code",
   "execution_count": null,
   "metadata": {},
   "outputs": [],
   "source": [
    "a = [10, 20, 30, 40]\n",
    "a.insert(2, 25)\n",
    "print(a)  # 출력: [10, 20, 25, 30, 40]"
   ]
  },
  {
   "cell_type": "markdown",
   "metadata": {},
   "source": [
    "#### 8. 리스트 pop"
   ]
  },
  {
   "cell_type": "code",
   "execution_count": null,
   "metadata": {},
   "outputs": [],
   "source": [
    "a = [1, 2, 3]\n",
    "print(a.pop(2))  # 출력: 25\n",
    "print(a)  # 출력: [10, 20, 30, 40]"
   ]
  },
  {
   "cell_type": "markdown",
   "metadata": {},
   "source": [
    "#### 9. 리스트 remove"
   ]
  },
  {
   "cell_type": "code",
   "execution_count": null,
   "metadata": {},
   "outputs": [],
   "source": [
    "a = [1, 2, 3, 1, 2]\n",
    "a.remove(2)\n",
    "print(a)  # 출력: [1, 3, 1, 2]"
   ]
  },
  {
   "cell_type": "markdown",
   "metadata": {},
   "source": [
    "#### 10. 리스트 reverse"
   ]
  },
  {
   "cell_type": "code",
   "execution_count": null,
   "metadata": {},
   "outputs": [],
   "source": [
    "a = [1, 2, 3, 1, 2]\n",
    "a.reverse()\n",
    "print(a)  # 출력: [2, 1, 3, 2, 1]"
   ]
  },
  {
   "cell_type": "markdown",
   "metadata": {},
   "source": [
    "#### 11. 리스트 reversed"
   ]
  },
  {
   "cell_type": "code",
   "execution_count": null,
   "metadata": {},
   "outputs": [],
   "source": []
  },
  {
   "cell_type": "markdown",
   "metadata": {},
   "source": [
    "#### 튜플 양식"
   ]
  },
  {
   "cell_type": "code",
   "execution_count": null,
   "metadata": {},
   "outputs": [],
   "source": [
    "t1 = () # tuple\n",
    "t2 = (0,) # tuple 단일 값의 튜플을 사용할때 꼭 콤마를 넣어주세요!\n",
    "t3 = (0) # int\n",
    "t4 = (0.1) # float\n",
    "print(t1)\n",
    "print(t2)\n",
    "print(type(t3))\n",
    "print(type(t4))"
   ]
  },
  {
   "cell_type": "markdown",
   "metadata": {},
   "source": [
    "#### 딕셔너리 양식"
   ]
  },
  {
   "cell_type": "code",
   "execution_count": null,
   "metadata": {},
   "outputs": [],
   "source": [
    "d1 = {}\n",
    "d2 = dict()\n",
    "\n",
    "print(type(d1))  # 출력: <class 'dict'>\n",
    "print(type(d2))  # 출력: <class 'dict'>\n",
    "\n",
    "d = {'one' : '하나', 'one' : '하나2', 'one' : '하나3'}\n",
    "print(d)  # 출력: {'one' : '하나3'} 같은 키는 이전키 삭제\n",
    "\n",
    "d = dict([('one' , '하나'), ('two', '둘')])\n",
    "print(d)  # 출력: {'one' : '하나', 'two' : '둘'}"
   ]
  },
  {
   "cell_type": "markdown",
   "metadata": {},
   "source": [
    "#### zip 함수와 dict"
   ]
  },
  {
   "cell_type": "code",
   "execution_count": null,
   "metadata": {},
   "outputs": [],
   "source": [
    "keys = [\"name\", \"city\", \"job\"]\n",
    "values = [\"licat\", \"Jeju\", \"Developer\"]\n",
    "\n",
    "\n",
    "new_dict = dict(zip(keys, values))\n",
    "print(new_dict)"
   ]
  },
  {
   "cell_type": "markdown",
   "metadata": {},
   "source": [
    "#### 딕셔너리 fromkeys"
   ]
  },
  {
   "cell_type": "code",
   "execution_count": null,
   "metadata": {},
   "outputs": [],
   "source": [
    "keys = ['name', 'city', 'job']\n",
    "value = None\n",
    "print(dict.fromkeys(keys, value))\n",
    "\n",
    "keys = ['name', 'city', 'job']\n",
    "value = ['licat', 'Jeju', 'Developer']\n",
    "print(dict.fromkeys(keys, value))"
   ]
  },
  {
   "cell_type": "markdown",
   "metadata": {},
   "source": [
    "#### 딕셔너리 get"
   ]
  },
  {
   "cell_type": "code",
   "execution_count": null,
   "metadata": {},
   "outputs": [],
   "source": [
    "numbers = {'one': '하나', 'two': '둘', 'three': '셋'}\n",
    "print(numbers.get('four'))\n",
    "print(numbers.get('three', '없음'))\n",
    "print(numbers.get('four', '없음'))\n",
    "print(numbers['four'])"
   ]
  },
  {
   "cell_type": "markdown",
   "metadata": {},
   "source": [
    "#### 딕셔너리 items"
   ]
  },
  {
   "cell_type": "code",
   "execution_count": null,
   "metadata": {},
   "outputs": [],
   "source": [
    "person = {'name': 'licat', 'city': 'Jeju', 'job': 'Developer'}\n",
    "print(person.items())"
   ]
  },
  {
   "cell_type": "markdown",
   "metadata": {},
   "source": [
    "#### 딕셔너리 keys"
   ]
  },
  {
   "cell_type": "code",
   "execution_count": null,
   "metadata": {},
   "outputs": [],
   "source": [
    "person = {'name': 'licat', 'city': 'Jeju', 'job': 'Developer'}\n",
    "print(person.keys())"
   ]
  },
  {
   "cell_type": "markdown",
   "metadata": {},
   "source": [
    "#### 딕셔너리 popitem"
   ]
  },
  {
   "cell_type": "code",
   "execution_count": null,
   "metadata": {},
   "outputs": [],
   "source": [
    "numbers = {'one': '하나', 'two': '둘', 'three': '셋'}\n",
    "item = numbers.popitem()\n",
    "print(item)\n",
    "print(numbers)"
   ]
  },
  {
   "cell_type": "markdown",
   "metadata": {},
   "source": [
    "#### 딕셔너리 setdefault"
   ]
  },
  {
   "cell_type": "code",
   "execution_count": 49,
   "metadata": {},
   "outputs": [
    {
     "name": "stdout",
     "output_type": "stream",
     "text": [
      "셋\n",
      "{'one': '하나', 'two': '둘', 'three': '셋', 'four': '넷'}\n"
     ]
    }
   ],
   "source": [
    "numbers = {'one': '하나', 'two': '둘', 'three': '셋'}\n",
    "four_value = numbers.setdefault(\"four\", \"넷\")\n",
    "four_value = numbers.setdefault(\"three\", 3) \n",
    "print(four_value)\n",
    "print(numbers)"
   ]
  },
  {
   "cell_type": "markdown",
   "metadata": {},
   "source": [
    "#### 셋 양식"
   ]
  },
  {
   "cell_type": "code",
   "execution_count": null,
   "metadata": {},
   "outputs": [],
   "source": [
    "z = set([1, 2, 3, 3, 3])\n",
    "print(z)  # 출력: {1, 2, 3}\n",
    "string_set = set('apple coffee')\n",
    "print(string_set)"
   ]
  },
  {
   "cell_type": "markdown",
   "metadata": {},
   "source": [
    "#### 셋 합집합 |, 교집합 &, 차집합 -. "
   ]
  },
  {
   "cell_type": "code",
   "execution_count": 50,
   "metadata": {},
   "outputs": [
    {
     "name": "stdout",
     "output_type": "stream",
     "text": [
      "{1, 2, 3, 4, 5}\n",
      "{3}\n",
      "{1, 2}\n"
     ]
    }
   ],
   "source": [
    "set1 = {1, 2, 3}\n",
    "set2 = {3, 4, 5}\n",
    "union_set = set1 | set2\n",
    "print(union_set)  # 출력: {1, 2, 3, 4, 5}\n",
    "\n",
    "set1 = {1, 2, 3}\n",
    "set2 = {3, 4, 5}\n",
    "intersection_set = set1 & set2\n",
    "print(intersection_set)  # 출력: {3}\n",
    "\n",
    "set1 = {1, 2, 3}\n",
    "set2 = {3, 4, 5}\n",
    "difference_set = set1 - set2\n",
    "print(difference_set)  # 출력: {1, 2}"
   ]
  },
  {
   "cell_type": "code",
   "execution_count": null,
   "metadata": {},
   "outputs": [],
   "source": [
    "student_score = {\n",
    "\t\t'홍의': 97,\n",
    "\t\t'원희': 60,\n",
    "\t\t'동해': 77,\n",
    "\t\t'변수': 79,\n",
    "\t\t'창현': 89,\n",
    "}\n",
    "# 총점수\n",
    "print(sum(student_score.values())) \n",
    "# 평균 점수\n",
    "print(sum(student_score.values())/len(student_score))\n",
    "# 학생 추가후 평균 점수\n",
    "student_score.setdefault(\"호준\",98)\n",
    "print(sum(student_score.values())/len(student_score))\n",
    "# 점수2씩 증가\n",
    "for key in student_score:\n",
    "\tstudent_score[key] += 2\n",
    "print(student_score)\n",
    "# 가장 높은 학생의 이름과 그 점수\n",
    "print(f\"우수상:{max(student_score, key=student_score.get)}\\n점수:{max(student_score.values())}\")\n",
    "print(f\"노력상:{min(student_score, key=student_score.get)}\\n점수:{min(student_score.values())}\")\n",
    "\n"
   ]
  },
  {
   "cell_type": "markdown",
   "metadata": {},
   "source": [
    "#### 함수 들여쓰기"
   ]
  },
  {
   "cell_type": "code",
   "execution_count": null,
   "metadata": {},
   "outputs": [],
   "source": [
    "def my_function():\n",
    "\tprint('1')\n",
    "\tprint('2')\n",
    "\tprint('3')\n",
    "my_function()"
   ]
  },
  {
   "cell_type": "markdown",
   "metadata": {},
   "source": [
    "#### 함수 실습"
   ]
  },
  {
   "cell_type": "code",
   "execution_count": null,
   "metadata": {},
   "outputs": [],
   "source": [
    "def message(문자열):\n",
    "\tprint(문자열)\n",
    "message(\"안녕\")\n",
    "message(\"Hi\")\n",
    "\n",
    "user_input = input(\"합을 구할 숫자를 입력하세요\").split()\n",
    "user_number = map(int,user_input)\n",
    "def sum(user_number):\n",
    "\ttotal = 0\n",
    "\tfor a in user_number:\n",
    "\t\ttotal += a\n",
    "\treturn total\n",
    "\n",
    "print(sum(user_number))\t"
   ]
  },
  {
   "cell_type": "markdown",
   "metadata": {},
   "source": [
    "# Day-5"
   ]
  },
  {
   "cell_type": "markdown",
   "metadata": {},
   "source": [
    "### 함수"
   ]
  },
  {
   "cell_type": "markdown",
   "metadata": {},
   "source": [
    "* 함수는 특정 작업을 수행하는 코드 블록을 하나의 이름 아래로 모은 것\n",
    "* 정의: 함수를 만들때는 def 키워드를 사용, 그리고 함수의 이름을 적고, 괄호를 적고, 콜론(:) 을 붙입니다. 예) def my_function():\n",
    "* 함수는 들여쓰기 중요하다\n",
    "* [함수 이해도](./img/함수.png)\n",
    "* 함수의 파라미터는 기본값을 없으면 먼저 써야 한다\n",
    "    1. 예) def f(a, b=10, c=200): 가능\n",
    "    2. def f(a=10, b=100, c): 오류\n",
    "* 함수 내부 변수는, 외부 변수와 공유하지않습니다\n",
    "* locals()로 변수내부 내용 확인 가능\n",
    "* global 함수 내부에서 외부 함수를 변경 가능\n",
    "* pass 가 있는 위치에 어떠한 연산도 수행되지 않습니다, 협업할 때 사용된다\n",
    "* 빌트인 함수(built-in)\n",
    "\n"
   ]
  },
  {
   "cell_type": "markdown",
   "metadata": {},
   "source": [
    "### built-in 함수 종류\n",
    "\n",
    "[built-in Functions](https://docs.python.org/3/library/functions.html)"
   ]
  },
  {
   "cell_type": "code",
   "execution_count": null,
   "metadata": {},
   "outputs": [],
   "source": [
    "# 요소 전체의 True, False 판별\n",
    "all\n",
    "any\n",
    "\n",
    "# 숫자를 문자로 바꾸거나 문자를 숫자로 바꾸는 함수\n",
    "chr\n",
    "ord\n",
    "\n",
    "# 함수와 순회할 수 있는 객체의 연산\n",
    "map\n",
    "filter\n",
    "\n",
    "# 순회할 수 있는 객체의 묶음\n",
    "zip\n",
    "\n",
    "# 형식 변환\n",
    "format\n",
    "\n",
    "# 길이 반환\n",
    "len\n",
    "\n",
    "# 큰 값, 작은 값, 다 더한 값\n",
    "max\n",
    "min\n",
    "sum\n",
    "\n",
    "# 문자열, 대표 문자열, 문자열 출력\n",
    "str\n",
    "repr\n",
    "print\n",
    "\n",
    "# 순회할 수 있는 객체\n",
    "enumerate\n",
    "range\n",
    "\n",
    "# 역순과 정렬\n",
    "reversed\n",
    "sorted"
   ]
  },
  {
   "cell_type": "markdown",
   "metadata": {},
   "source": [
    "### Thinter 사용법"
   ]
  },
  {
   "cell_type": "code",
   "execution_count": null,
   "metadata": {},
   "outputs": [],
   "source": [
    "1. 레이블(Label): 텍스트나 이미지를 사용자 인터페이스에 표시합니다.\n",
    "2. 버튼(Button): 사용자가 클릭할 수 있는 버튼을 제공하여 특정 동작을 실행하게 합니다."
   ]
  },
{
   "cell_type": "markdown",
   "metadata": {},
   "source": [
    "### 함수"
   ]
  },
  {
   "cell_type": "code",
   "execution_count": null,
   "metadata": {},
   "outputs": [],
   "source": [
    "def f(a, b, c):\n",
    "    print(a, b, c)\n",
    "\n",
    "\n",
    "f(100,200,300)\n",
    "f(a=100, b=200, c=300) # 출력: 100 200 300\n",
    "f(c=300, a=100, b=200) # 출력: 100 200 300"
   ]
  },
  {
   "cell_type": "code",
   "execution_count": 13,
   "metadata": {},
   "outputs": [],
   "source": [
    "def append_to_list(value, lst=[]):\n",
    "    lst.append(value)\n",
    "    return lst # 예상치 못한 결과가 발생할 수 있습니다.\n",
    "\n",
    "append_to_list(1) # 출력: [1]\n",
    "append_to_list(2) # 출력: [1, 2], 그러나 결과가 [2]가 나올것으로 예상할수 도 있습니다."
   ]
  },
  {
   "cell_type": "code",
   "execution_count": null,
   "metadata": {},
   "outputs": [],
   "source": [
    "def append_to_list(value, lst=None):\n",
    "    if lst is None:\n",
    "        lst = []\n",
    "    lst.append(value)\n",
    "    return lst\n",
    "\n",
    "append_to_list(1) # 결과: [1]\n",
    "append_to_list(2) # 결과: [2]"
   ]
  },
  {
   "cell_type": "markdown",
   "metadata": {},
   "source": [
    "### locals() 사용"
   ]
  },
  {
   "cell_type": "code",
   "execution_count": null,
   "metadata": {},
   "outputs": [],
   "source": [
    "def f():\n",
    "    a = 1\n",
    "    b = 'hello'\n",
    "    def ff():\n",
    "        pass\n",
    "    print(locals()) # 출력: {'a': 1, 'b': 'hello', 'ff': <function f.<locals>.ff at 0x7a46e99d2c20>}\n",
    "\n",
    "\n",
    "f()"
   ]
  },
  {
   "cell_type": "markdown",
   "metadata": {},
   "source": [
    "### global 사용"
   ]
  },
  {
   "cell_type": "code",
   "execution_count": null,
   "metadata": {},
   "outputs": [],
   "source": [
    "a = 100\n",
    "\n",
    "\n",
    "def f():\n",
    "    global a\n",
    "    a = a + 1\n",
    "\n",
    "\n",
    "f()\n",
    "print(a)  # 출력: 101, 함수 f 내에서 전역 변수 a가 수정되었습니다."
   ]
  },
  {
   "cell_type": "markdown",
   "metadata": {},
   "source": [
    "1. 사용자로부터 이름을 입력받아 \"안녕하세요, [이름]님!\"을 출력하는 함수를 작성하세요.\n",
    "- 접근 방법:\n",
    "    1. 함수를 정의하고 이름을 매개변수로 받습니다.\n",
    "    2. 인사말 문자열을 생성할 때, 이름을 문자열에 포함시킵니다.\n",
    "    3. 생성된 인사말 문자열을 출력합니다."
   ]
  },
  {
   "cell_type": "code",
   "execution_count": null,
   "metadata": {},
   "outputs": [],
   "source": [
    "name = input('당신의 이름이 뭐예요?')\n",
    "def my(name):\n",
    "\tprint(f'안녕하세요,{name}님!')\n",
    "my(name)"
   ]
  },
  {
   "cell_type": "markdown",
   "metadata": {},
   "source": [
    "3. 사용자로부터 전화번호를 입력받아 뒤에서 4자리만 출력하는 함수를 작성하세요.\n",
    "\n",
    "접근 방법:\n",
    "\n",
    "1. 함수를 정의하고 전화번호를 매개변수로 받습니다.\n",
    "2. 전화번호에서 뒤에서 4자리를 추출합니다. (문자열 슬라이싱 사용)\n",
    "3. 추출된 뒤 4자리를 출력합니다."
   ]
  },
  {
   "cell_type": "code",
   "execution_count": null,
   "metadata": {},
   "outputs": [],
   "source": [
    "hp = input('당신의 전화번호 뭐예요?')\n",
    "def my(hp):\n",
    "\tz = hp[-4:]\n",
    "\tprint(f'뒷번호가{z}이신가요?')\n",
    "my(hp)"
   ]
  },
  {
   "cell_type": "markdown",
   "metadata": {},
   "source": [
    "4. 사용자로부터 주소를 입력받아 \"시/도\"와 \"구/군\"을 분리하여 출력하는 함수를 작성하세요. \n",
    "(예: \"서울특별시 강남구\" -> \"시/도: 서울특별시\", \"구/군: 강남구\")\n",
    "- 접근 방법:\n",
    "    1. 함수를 정의하고 주소를 매개변수로 받습니다.\n",
    "    2. 주소를 공백을 기준으로 분리합니다. (문자열의 `split()` 메서드 사용)\n",
    "    3. 분리된 부분에서 시/도와 구/군을 추출하여 출력합니다."
   ]
  },
  {
   "cell_type": "code",
   "execution_count": null,
   "metadata": {},
   "outputs": [],
   "source": [
    "home = input('당신의 집주소가 뭐예요?')\n",
    "def my(home):\n",
    "\tz = home.split()\n",
    "\tprint(f'{z[0]}시 {z[1]}구')\n",
    "my(home)"
   ]
  },
  {
   "cell_type": "markdown",
   "metadata": {},
   "source": [
    "### map 사용"
   ]
  },
  {
   "cell_type": "code",
   "execution_count": null,
   "metadata": {},
   "outputs": [],
   "source": [
    "def 제곱(x):\n",
    "    return x ** 2\n",
    "list(map(제곱, [1, 2, 3, 4])) # 출력: [1, 4, 9, 16]"
   ]
  },
  {
   "cell_type": "markdown",
   "metadata": {},
   "source": [
    "### lambda 함수 활용"
   ]
  },
  {
   "cell_type": "code",
   "execution_count": null,
   "metadata": {},
   "outputs": [],
   "source": [
    "# 두번째 방법\n",
    "list(map(lambda x : x ** 2, [1, 2, 3, 4])) # 출력: [1, 4, 9, 16]"
   ]
  },
  {
   "cell_type": "markdown",
   "metadata": {},
   "source": [
    "### filter 함수"
   ]
  },
  {
   "cell_type": "code",
   "execution_count": null,
   "metadata": {},
   "outputs": [],
   "source": [
    "list(filter(lambda x : x > 50, range(100)))"
   ]
  },
  {
   "cell_type": "markdown",
   "metadata": {},
   "source": [
    "### format 함수"
   ]
  },
  {
   "cell_type": "code",
   "execution_count": null,
   "metadata": {},
   "outputs": [],
   "source": [
    "print(format(10000, ','))\n",
    "print(format(123.4567, '.2f')) # 출력: 123.46\n",
    "print(format('Hello', '^9')) # 출력: '  Hello  '"
   ]
  },
  {
   "cell_type": "markdown",
   "metadata": {},
   "source": [
    "### range 함수"
   ]
  },
  {
   "cell_type": "code",
   "execution_count": null,
   "metadata": {},
   "outputs": [],
   "source": [
    "print(range(1, 10, 2)) # 출력: range(1, 10, 2)\n",
    "list(range(1, 10, 2)) # 출력: [1, 3, 5, 7, 9]\n",
    "range(10)[3]\n",
    "range(10)[3:7]\n",
    "len(range(10))"
   ]
  },
  {
   "cell_type": "markdown",
   "metadata": {},
   "source": [
    "### enumerate 함수"
   ]
  },
  {
   "cell_type": "code",
   "execution_count": null,
   "metadata": {},
   "outputs": [],
   "source": [
    "values = ['A', 'B', 'C', 'D']\n",
    "print(list(enumerate(values)))\n",
    "print(list(enumerate(values, 1)))\n",
    "print(list(enumerate(values, 100)))"
   ]
  },
  {
   "cell_type": "markdown",
   "metadata": {},
   "source": [
    "### sorted, reversed 합수"
   ]
  },
  {
   "cell_type": "code",
   "execution_count": null,
   "metadata": {},
   "outputs": [],
   "source": [
    "print(sorted([1, 2, 100, 200, 3, 4, 10, 20]))\n",
    "print(sorted([1, 2, 100, 200, 3, 4, 10, 20]))\n",
    "print(list(reversed('hello world')))\n",
    "print(list(reversed([1, 2, 3, 10, 5, 4]))) # 역 정렬 아닙니다! 역순입니다.\n",
    "print(list(reversed(sorted([1, 2, 3, 10, 5, 4]))))"
   ]
  },
  {
   "cell_type": "code",
   "execution_count": null,
   "metadata": {},
   "outputs": [],
   "source": [
    "# range(start, stop, step) # 슬라이싱과 비슷한 형태를 지니고 있습니다.\n",
    "print(range(10)) # 값을 가지고 있지 않습니다.\n",
    "print(list(range(10)))\n",
    "x = range(10)\n",
    "print(type(x))\n",
    "print(list(range(0, 10, 2)))\n",
    "print(list(range(10, 0, -2)))\n",
    "# print(list(range(10, 0, 2.1))) # error, numpy 모듈 사용하면 가능합니다.\n",
    "# print(list(range(10.1, 2.0, 2))) # error, numpy 모듈 사용하면 가능합니다.\n",
    "print(list(range(0, 10, -2)))"
   ]
  },
  {
   "cell_type": "markdown",
   "metadata": {},
   "source": [
    "### replit\n",
    "[replit 링크](https://replit.com/)"
   ]
  },
  {
   "cell_type": "code",
   "execution_count": null,
   "metadata": {},
   "outputs": [],
   "source": []
  }



 ],
 "metadata": {
  "kernelspec": {
   "display_name": "Python 3",
   "language": "python",
   "name": "python3"
  },
  "language_info": {
   "codemirror_mode": {
    "name": "ipython",
    "version": 3
   },
   "file_extension": ".py",
   "mimetype": "text/x-python",
   "name": "python",
   "nbconvert_exporter": "python",
   "pygments_lexer": "ipython3",
   "version": "3.12.3"
  }
 },
 "nbformat": 4,
 "nbformat_minor": 2
}
