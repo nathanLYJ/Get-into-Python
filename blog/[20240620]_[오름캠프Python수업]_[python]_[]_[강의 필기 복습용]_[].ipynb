{
 "cells": [
  {
   "cell_type": "markdown",
   "metadata": {},
   "source": [
    "### 커맨드\n",
    "1. **실행 단축키 (3번씩 실습)**\n",
    "    1. (필수) `Ctrl(Command)` + `Enter` : 해당 셀 실행\n",
    "    2. `Shift` + `Enter` : 해당 셀 실행 + 커서를 다음 셀로 이동\n",
    "    3. (필수) `Alt(Option)` + `Enter` : 해당 셀 실행 + 코드 불록 하단 추가\n",
    "2. **셀 삽입/삭제 관련 단축키(3번씩 실습)**\n",
    "    1. `Ctrl(Command)` + M A : 코드 셀 위에 삽입\n",
    "    2. `Ctrl(Command)` + M B : 코드 셀 아래 삽입\n",
    "    3. `Ctrl(Command)` + M D : 셀 지우기\n",
    "    4. `Ctrl(Command)` + M Y : 코드 셀로 변경\n",
    "    5. `Ctrl(Command)` + M M : 마크다운 셀로 변경\n",
    "    6. `Ctrl(Command)` + M Z : 실행 취소\n",
    "3. **자주 쓰는**\n",
    "    1. `Ctrl(Command)` + `Alt(Option)` + 화살표위아래 : 동시 수정\n",
    "    2. (자주) `Ctrl(Command)` + D : 같은 단어 찾아 동시 수정\n",
    "    3. `Ctrl(Command)` + `Shift` + L : 동일 단어를 전체로 찾아 동시 수정\n",
    "    4. `Alt(Option)` + `Shift` + 화살표위아래 : 해당내용을 위나 아래 복사해서 붙여넣기\n",
    "    5. `Alt(Option)` + 화살표위아래 : 해당 내용을 위나 아래로 보내기\n",
    "    6. (자주) `Ctrl(Command)` + `Alt(Option)` + 화살표위아래 : 위아래 동시 수정\n",
    "    7. (자주) Home, End : 문장의 양 끝\n",
    "    8. (필수) `Ctrl(Command)` + `/` : 주석\n",
    "    9. (필수) `Shift`(`Command`) + `Del` : 한 줄 지우기\n",
    "    10. (필수) `Tab`, `Ctrl` + `]` : 들여쓰기\n",
    "    11. (필수) `Shift` + `Tab`, `Ctrl` + `[` : 내어쓰기"
   ]
  },
  {
   "cell_type": "markdown",
   "metadata": {},
   "source": [
    "### 마크다운 \n",
    "#### 1. # 수 만큼 글자 크기\n",
    "#### 2. 강조 * _\n",
    "예)\n",
    "*강조* **강조** <br/> \n",
    "_강조_ __강조__\n",
    "#### 3. 목록\n",
    "예)\n",
    "1.\t\t\n",
    "2.\t\t\t\n",
    "3.\t\n",
    "*\t\n",
    "*\t\n",
    "*\t\n",
    "#### 4. 링크 [표시이름](링크 주소),![표시이름](링크 주소)\n",
    "예)\n",
    "[Google](http://www.google.com)<br/>\n",
    "![모연](./img/zoom_BG1.png)\n",
    "#### 5. 기타\n",
    "취소선 : ~~취소선~~\n",
    "\n",
    "---\n",
    "\n",
    "> 인용문\n",
    ">> 중첩된 인용문"
   ]
  },
  {
   "cell_type": "markdown",
   "metadata": {},
   "source": [
    "## 주석 코드"
   ]
  },
  {
   "cell_type": "code",
   "execution_count": null,
   "metadata": {},
   "outputs": [],
   "source": [
    "# 이것은 주석이입다.\n",
    "print(\"hello,word1!\")\n",
    "# print('hello,world2!') # 출력 안됨"
   ]
  },
  {
   "cell_type": "markdown",
   "metadata": {},
   "source": [
    "## 입력과 출력"
   ]
  },
  {
   "cell_type": "code",
   "execution_count": null,
   "metadata": {},
   "outputs": [],
   "source": [
    "age = input('나이를 입력해주세요.')\n",
    "print(age + age) # 입력받은 문자는 '문자열'로 처리되어 이어붙입니다.\n",
    "print(\"Hello\", \"World\", \"!\") # 출력은 , 로 구분함 > 출력에는 띄어쓰기로 연결됨\n",
    "print(\"010\", \"0000\", \"0000\", sep=\"-\",end='???') # sep 로 연결기호 변경 가능 end 로 다음 문장 연결)\n",
    "print(\"010\", \"0000\", \"0000\", sep=\"@\")"
   ]
  },
  {
   "cell_type": "markdown",
   "metadata": {},
   "source": [
    "## f-string"
   ]
  },
  {
   "cell_type": "code",
   "execution_count": null,
   "metadata": {},
   "outputs": [],
   "source": [
    "name = 'licat'\n",
    "age = 10\n",
    "print('제 이름은',name,end=\", \")\n",
    "print('제 나이는',age)\n",
    "print(f'제 이름은 {name}, 제 나이는 {age} 입니다.') # 변수를 쉽게 추가하는 방법"
   ]
  },
  {
   "cell_type": "code",
   "execution_count": null,
   "metadata": {},
   "outputs": [],
   "source": [
    "class Character:\n",
    "    def __str__(self):\n",
    "        return 'a'\n",
    " \n",
    "    def __repr__(self):\n",
    "        return 'b'\n",
    " \n",
    "hero = Character()\n",
    "print(hero)\n",
    "hero"
   ]
  },
  {
   "cell_type": "markdown",
   "metadata": {},
   "source": [
    "## 변수\n",
    "1. **변수 이름 짓기**\n",
    "\t* 변수 이름은 알파벳(대문자와 소문자), 숫자, 언더스코어(_)로 구성됩니다.\n",
    "\t* 변수 이름은 숫자로 시작할 수 없습니다. 예를 들어 1ten / 100_test / 0은 변수 이름으로 사용할 수 없습니다.\n",
    "\t* 파이썬의 키워드(예: if, else, while 등)는 변수 이름으로 사용할 수 없습니다.\n",
    "\t* 변수는 대소문자 구분\n",
    "2. **관습**\n",
    "\t* 일반 변수는 주로 첫 문자를 소문자로 사용합니다.\n",
    "\t* 사용하지 않는 변수는 언더스코어(_)로 명명합니다. <br/>\n",
    "\t\t`예: 반복문에서 i, j, k와 같은 변수가 사용되지 않는다면 이러한 변수명을 언더스코어로 대체합니다.`\n",
    "\t* 클래스는 첫문자를 대문자로 하고 띄어쓰기가 일어날 때마다 대문자로 표시하는 파스칼표기법을 주로 사용합니다. <br/>\n",
    "\t\t`예: class UserProfile: , daily_user_count = 100`\n",
    "3. **변수의 타입 변수 정의 후, type(변수) 사용**\n",
    "\t* `int` : 양의 정수, 0, 음의 정수를 표현합니다. `예: 1, 5, 100, 0, -30, -45`\n",
    "\t* `float` : 소수점을 포함한 실수를 표현합니다. `예: 1.5, 5.6, 100.23, 0.0, -30.53245`\n",
    "\t* `complex` : 실수부와 허수부로 구성된 복소수를 표현합니다. `예: 1+2j, 3-4j`\n",
    "\t* `Boolean Type` : 논리 자료형 True, False을 표현합니다.\n",
    "\t* `Sequence Types` : 순서가 있으면서 순서에 해당하는 값을 읽어올 수 있는 인덱싱이나 일부 순서에 그룹을 잘라낼 수 있는 슬라이싱이 가능한 자료형입니다.\n",
    "\t* `str` : 문자의 나열로 이루어진 문자열을 표현합니다. `예: \"Hello\", 'Python'`\n",
    "\t* `list`: 순서가 있는 변경 가능(mutable)한 객체의 집합입니다. `예: [1, 2, 3], ['a', 'b', 'c']`\n",
    "\t* `tuple`: 순서가 있는 변경 불가능(immutable)한 객체의 집합입니다. `예: (1, 2, 3), ('a', 'b', 'c')`\n",
    "\t* `Collection Types` 혹은 컨테이너 타입(Container Types): 다른 자료형을 담을 수 있는 자료형입니다.\n",
    "\t* `list`: 순서가 있는 변경 가능(mutable)한 객체의 집합입니다. `예: [1, 2, 3], ['a', 'b', 'c']`\n",
    "\t* `tuple`: 순서가 있는 변경 불가능(immutable)한 객체의 집합입니다. `예: (1, 2, 3), ('a', 'b', 'c')`\n",
    "\t* `set`: 순서가 없고 중복을 허용하지 않는 변경 가능(mutable)한 객체의 집합입니다. `예: {1, 2, 3}, {'a', 'b', 'c'}`\n",
    "\t* `dict`: 키(key)와 값(value)의 쌍으로 이루어진 변경 가능(mutable)한 객체의 집합입니다. `예: {'a': 1, 'b': 2, 'c': 3}`\n",
    "\t* `None`: None, 값이 없음을 나타내는 특별한 타입입니다.\n",
    "\t* 이 외에도 파이썬에서는 함수`(function)`, 클래스`(class)`, 모듈`(module)` 등의 타입도 존재합니다. 각 타입의 변수를 선언하고 사용하는 예시를 살펴보겠습니다.\n",
    "4. **dir활용**\n",
    "\t* 출력 예)<br/>\n",
    "\t<class 'int'> # int라는 이름을 가지고 있군요!<br/>\n",
    "\t'__abs__', # 매직 메서드: 절대값이 되는군요!<br/>\n",
    "\t'__add__', # 매직 메서드: 더하기가 되는군요!<br/>\n",
    "\t'__and__', # 매직 메서드: 논리 연산이 되는군요!<br/>\n",
    "\t'__mul__', # 매직 메서드: 곱하기가 되는군요!<br/>\n",
    "\t'real', # 메서드: 실수부를 출력하는 메서드<br/>\n",
    "\t'to_bytes' # 메서드: 바이트로 변환하는 메서드\n",
    "5. **변수 삭제 del**\n",
    "\n",
    "    \n",
    "\t"
   ]
  },
  {
   "cell_type": "code",
   "execution_count": null,
   "metadata": {},
   "outputs": [],
   "source": [
    "age = 30\n",
    "name = 'Jun'\n",
    "print(age, name)\n",
    "print(age)\n",
    "print(name)"
   ]
  },
  {
   "cell_type": "markdown",
   "metadata": {},
   "source": [
    "사용 불가 키워드"
   ]
  },
  {
   "cell_type": "code",
   "execution_count": null,
   "metadata": {},
   "outputs": [],
   "source": [
    "import keyword\n",
    "\n",
    "print(keyword.kwlist)"
   ]
  },
  {
   "cell_type": "markdown",
   "metadata": {},
   "source": [
    "변수 정의"
   ]
  },
  {
   "cell_type": "code",
   "execution_count": null,
   "metadata": {},
   "outputs": [],
   "source": [
    "name = 'Jun1'\n",
    "Name = 'Jun2'\n",
    "NAME = 'Jun3'\n",
    "print(name, Name, NAME)\n",
    "name = 'jun4' # 같은 변수 정의시 덮어쓰기 됨\n",
    "print(name)"
   ]
  },
  {
   "cell_type": "markdown",
   "metadata": {},
   "source": [
    "타입 확인"
   ]
  },
  {
   "cell_type": "code",
   "execution_count": null,
   "metadata": {},
   "outputs": [],
   "source": [
    "age = 10\n",
    "print(type(age)) # 출력: <class 'int'>\n",
    "\n",
    "name = \"licat\"\n",
    "print(type(name)) # 출력: <class 'str'>\n",
    "\n",
    "x = 10\n",
    "print(type(x))\n",
    "print(dir(x))\n",
    "del x\n",
    "print(x)  # NameError: name 'x' is not defined"
   ]
  },
  {
   "cell_type": "code",
   "execution_count": 27,
   "metadata": {},
   "outputs": [],
   "source": [
    "a = 10      # int, 정수형\n",
    "b = -1      # int, 정수형\n",
    "c = 0b110   # int, 2진수 정수형\n",
    "d = 0o56    # int, 8진수 정수형\n",
    "e = 0xAC    # int, 16진수 정수형\n",
    " \n",
    "f = 10.1    # float, 실수형\n",
    " \n",
    "g = 10 + 2j # complex, 복소수형\n",
    " \n",
    "h = 'Hello'  # str, 문자열\n",
    "i = \"10\"    # str, 문자열\n",
    " \n",
    "j = True    # bool, 불리언\n",
    " \n",
    "k = None    # NoneType\n",
    " \n",
    "l = [1, 2, 3, 4]       # list, 리스트\n",
    "m = ['one', 'two']     # list, 리스트\n",
    "n = (1, 2, 3, 4)       # tuple, 튜플\n",
    "o = ('one', 'two')     # tuple, 튜플\n",
    "p = {'one': 1, 'two': 2} # dict, 딕셔너리\n",
    "q = {1, 2, 3, 4}       # set, 집합\n",
    " \n",
    "def r():    # function, 함수\n",
    "    pass\n",
    " \n",
    "s = print   # built-in function, 내장 함수\n",
    "t = lambda x: x ** 2  # function, 람다 함수\n",
    "u = int     # type, 타입\n",
    " \n",
    "class Character:  # class, 클래스\n",
    "    pass\n",
    " \n",
    "hero = Character()    # instance, 인스턴스\n",
    "villain = Character() # instance, 인스턴스"
   ]
  },
  {
   "cell_type": "markdown",
   "metadata": {},
   "source": [
    "Python에서는 `bin(), oct(), hex()` 함수를 사용하여 10진수를 각각 `2진수, 8진수, 16진수`로 변환할 수 있습니다."
   ]
  },
  {
   "cell_type": "code",
   "execution_count": null,
   "metadata": {},
   "outputs": [],
   "source": [
    "x = 26\n",
    "print(bin(x))\n",
    "print(oct(x))\n",
    "print(hex(x))"
   ]
  },
  {
   "cell_type": "markdown",
   "metadata": {},
   "source": [
    "`id` 범위 `-5 ~ 256`, 그외 값을 변함"
   ]
  },
  {
   "cell_type": "code",
   "execution_count": null,
   "metadata": {},
   "outputs": [],
   "source": [
    "# -5 ~ 256\n",
    "x = 1000\n",
    "y = 1000\n",
    "a = 256\n",
    "b = 256\n",
    "print(id(x), id(y))\n",
    "print(id(a), id(b))"
   ]
  },
  {
   "cell_type": "markdown",
   "metadata": {},
   "source": [
    "실수의 특수 값 `inf_무한`, `e,E` 10에 승수"
   ]
  },
  {
   "cell_type": "code",
   "execution_count": null,
   "metadata": {},
   "outputs": [],
   "source": [
    "x = float(\"-inf\")\n",
    "y = float(\"inf\")\n",
    "float(\"inf\") > 10"
   ]
  },
  {
   "cell_type": "code",
   "execution_count": null,
   "metadata": {},
   "outputs": [],
   "source": [
    "print(2e3) # 지수표현, float형\n",
    "print(2E3)\n",
    "\n",
    "print(2 * (10 ** 3)) # int 형"
   ]
  },
  {
   "cell_type": "markdown",
   "metadata": {},
   "source": [
    "#### 문자열(`str`) -> Day2\n",
    "1. `변수명[start(인덱스) : stop(인덱스) : step(인덱스)]` 슬라이싱\n",
    "2. `변수명.메서드()`\n",
    "\t* `lower`( ) 전체 *`소`*문자\n",
    "\t* `upper`( ) 전체 *`대`*문자\n",
    "\t* `find` ( ) index ( ) 문자열을 *`찾아주는`* method *`찾을 수 없는 문자열일 경우 find는 -1을 반환하는 반면, index는 error를 반환합니다.`*\n",
    "\t* `count`( ) 문자열이나 숫자를 *`셀`* 때 사용\n",
    "\t* `strip`( ) 양쪽 `공백 + @`을 *`제거`*하는 method\n",
    "\t* `replace`( ) `원하는 문자열`을 다른 문자열로 *`대체`*할 때 사용하는 *`method 대소문자 구분`*\n",
    "\t* `split`( ) `()` 내용을 기준으로 문자열 *`나누기`*\n",
    "\t* `.join` ( ) 리스트 [] 내용을 .join 앞에의 내용으로 하나의 문자열로 합치기 *`예문 확인`*\n",
    "\t* `format`( )  메서드는 문자열 내에서 변수의 값을 대입할 때 사용하는 메서드입니 *`예문 확인`*\n",
    "\t* `isalnum`( )  `al`는 *`알파벳`*, `num`은 *`숫자`*, **특수문자가 들어가 있으면 `False`, 한글이나 영어, 일본어, 중국어, 숫자 등이 들어가 있으면 `True`.**\n",
    "\t* `isdigit`( ) `문자열 숫자 만` 인지 확인.\n",
    "\t* `isalpha`( ) `문자열 문자 만` 인지 확인.\n",
    "\t* `isascii`( ) `아스키 코드표` 안에 있는비 확인.\n",
    "\t* `rjust`( **지정 길이 `:` 지정 문자** ) 문자열을 지정한 길이로 맞추고, 왼쪽을 지정한 문자로 채우는 메서드 *`예문 확인`*\n",
    "\t* `ljust`( **지정 길이 `:` 지정 문자** ) 문자열을 지정한 길이로 맞추고, 오른쪽을 지정한 문자로 채우는 메서드\n",
    "\t* `center`( **지정 길이 `:` 지정 문자** ) 문자열을 지정한 길이로 맞추고, 양쪽 지정한 문자로 채우는 메서드\n",
    "\t* `zfill`( **지정 길이** ) 문자열을 지정한 길이로 맞추고, 왼쪽을 0로 채우는 메서드, type 문자열로 변경\n",
    "\t* `maketrans + translate`() `여러개 문자열`을 다른 문자열로 *`대체`* 혹은 삭제 *`예문 학인`* **연습 필요**\n",
    "\t"
   ]
  },
  {
   "cell_type": "markdown",
   "metadata": {},
   "source": [
    "슬라이싱 테스트"
   ]
  },
  {
   "cell_type": "code",
   "execution_count": null,
   "metadata": {},
   "outputs": [],
   "source": [
    "j = \"\"\"안녕하세요.\n",
    "저는 위니브의 대표 이호준입니다.\n",
    "파이썬 참 좋아요.\n",
    "여러분 정말 잘 선택하셨어요.\n",
    "\"\"\"\n",
    "print(i)\n",
    "s = 'weniv CEO licat' # S[]<문자열의 순번 0부터 시작 \n",
    "print(s[0]) # 출력 : '위'\n",
    "print(s[-1]) # 출력 : '!'\n",
    "print(s[0:5]) # 출력 : weniv # 첫번째 예제\n",
    "print(s[6:]) # 출력 : CEO licat # 두번째 예제\n",
    "print(s[:]) # 출력 : weniv CEO licat # 세번째 예제\n",
    "print(s[::-1]) # 출력 : tacil OEC vinew # 네번째 예제\n",
    "print(s[::2]) # 출력 : wnvCOlct # 다섯번째 예제\n",
    "c = 'zoom_BG1.png'\n",
    "print(c[-3:])\n",
    "print(c[-1:-4:-1])\n",
    "print(c[-4::1])\n"
   ]
  },
  {
   "cell_type": "markdown",
   "metadata": {},
   "source": [
    "메서드 strip() 테스트"
   ]
  },
  {
   "cell_type": "code",
   "execution_count": null,
   "metadata": {},
   "outputs": [],
   "source": [
    "'    ,!!  hello world   '.strip(' ,!')\n",
    "#양쪽의 공백과 ',!'을 제거해주는 method"
   ]
  },
  {
   "cell_type": "markdown",
   "metadata": {},
   "source": [
    "join() 테스트"
   ]
  },
  {
   "cell_type": "code",
   "execution_count": 78,
   "metadata": {},
   "outputs": [
    {
     "ename": "SyntaxError",
     "evalue": "unexpected character after line continuation character (37032416.py, line 3)",
     "output_type": "error",
     "traceback": [
      "\u001b[1;36m  Cell \u001b[1;32mIn[78], line 3\u001b[1;36m\u001b[0m\n\u001b[1;33m    c = '010 1000 1000'\\r\u001b[0m\n\u001b[1;37m                        ^\u001b[0m\n\u001b[1;31mSyntaxError\u001b[0m\u001b[1;31m:\u001b[0m unexpected character after line continuation character\n"
     ]
    }
   ],
   "source": [
    "s = ['weniv', 'CEO', 'licat']\n",
    "print('-'.join(s)) #리스트를 하나의 문자열로 합치기\n",
    "c = '010 1000 1000'\n",
    "'-'.join(c.split()) #공백을 기준으로 문자열을 나눈 후 '-'로 합치기"
   ]
  },
  {
   "cell_type": "markdown",
   "metadata": {},
   "source": [
    "format() 테스트"
   ]
  },
  {
   "cell_type": "code",
   "execution_count": null,
   "metadata": {},
   "outputs": [],
   "source": [
    "name = 'licat'\n",
    "age = 29\n",
    "\n",
    "\n",
    "print('제 이름은 {}이고, 나이는 {}살입니다.'.format(name, age))"
   ]
  },
  {
   "cell_type": "markdown",
   "metadata": {},
   "source": [
    "licat( : ) 테스트"
   ]
  },
  {
   "cell_type": "code",
   "execution_count": null,
   "metadata": {},
   "outputs": [],
   "source": [
    "s = 'licat'\n",
    "s.rjust(10, '-')"
   ]
  },
  {
   "cell_type": "markdown",
   "metadata": {},
   "source": [
    "`maketrans + translate` 테스트"
   ]
  },
  {
   "cell_type": "code",
   "execution_count": null,
   "metadata": {},
   "outputs": [],
   "source": [
    "# 두 개의 인수를 사용하는 예제\n",
    "intab = \"aeiou\"\n",
    "outtab = \"12345\"\n",
    "translation_table = str.maketrans(intab, outtab)\n",
    "translated_string = \"hello world\".translate(translation_table)\n",
    "print(translated_string)  # h2ll4 w4rld\n",
    "\n",
    "# 세 개의 인수를 사용하는 예제\n",
    "intab = \"aeiou\"\n",
    "outtab = \"12345\"\n",
    "removetab = \"xyz\"\n",
    "translation_table = str.maketrans(intab, outtab, removetab)\n",
    "translated_string = \"hello xyz world\".translate(translation_table)\n",
    "print(translated_string)  # h2ll4  w4rld (xyz 문자가 제거됨)\n",
    "# 사전을 사용하는 예제\n",
    "translation_table = str.maketrans({\n",
    "    'a': '1',\n",
    "    'e': '2',\n",
    "    'i': '3',\n",
    "    'o': '4',\n",
    "    'u': '5',\n",
    "    'y': None  # 제거할 문자\n",
    "})\n",
    "translated_string = \"hello world\".translate(translation_table)\n",
    "print(translated_string)  # h2ll4 w4rld"
   ]
  },
  {
   "cell_type": "markdown",
   "metadata": {},
   "source": [
    "\\r: 커서를 현재 줄의 처음으로 이동합니다."
   ]
  },
  {
   "cell_type": "code",
   "execution_count": 79,
   "metadata": {},
   "outputs": [
    {
     "name": "stdout",
     "output_type": "stream",
     "text": [
      "카운트 완료!\n"
     ]
    }
   ],
   "source": [
    "import time\n",
    "\n",
    "# 간단한 카운터 예제\n",
    "for i in range(10):\n",
    "    print(f\"카운트: {i}\", end='\\r')\n",
    "    time.sleep(1)\n",
    "\n",
    "print(\"카운트 완료!\")\n"
   ]
  },
  {
   "cell_type": "code",
   "execution_count": 80,
   "metadata": {},
   "outputs": [
    {
     "name": "stdout",
     "output_type": "stream",
     "text": [
      "진행률: [100%]\n",
      "완료!\n"
     ]
    }
   ],
   "source": [
    "import time\n",
    "\n",
    "# 진행 막대 예제\n",
    "for i in range(101):\n",
    "    print(f\"진행률: [{i}%]\", end='\\r')\n",
    "    time.sleep(0.1)\n",
    "\n",
    "print(\"\\n완료!\")\n"
   ]
  },
  {
   "cell_type": "markdown",
   "metadata": {},
   "source": [
    "### 이스케이프 문자\n",
    "\n",
    "* \\\": 큰따옴표를 나타냅니다.\n",
    "* \\': 작은따옴표를 나타냅니다.\n",
    "* \\\\: 백슬래시를 나타냅니다.\n",
    "\n",
    "* \\n: 새로운 줄바꿈\n",
    "* \\t: 탭 간격\n",
    "* \\r: 커서를 현재 줄의 처음으로 이동합니다"
   ]
  },
  {
   "cell_type": "code",
   "execution_count": null,
   "metadata": {},
   "outputs": [],
   "source": [
    "# ChatGPT에서 가져옴 \n",
    "import time\n",
    "import sys\n",
    "\n",
    "def progress_bar(iteration, total, length=50):\n",
    "    percent = (\"{0:.1f}\").format(100 * (iteration / float(total)))\n",
    "    filled_length = int(length * iteration // total)\n",
    "    bar = '█' * filled_length + '-' * (length - filled_length)\n",
    "    sys.stdout.write(f'\\r|{bar}| {percent}%')\n",
    "    sys.stdout.flush()\n",
    "    if iteration == total:\n",
    "        print()\n",
    "\n",
    "# 사용 예시\n",
    "total_iterations = 100\n",
    "for i in range(total_iterations + 1):\n",
    "    progress_bar(i, total_iterations)\n",
    "    time.sleep(0.1)"
   ]
  },
  {
   "cell_type": "markdown",
   "metadata": {},
   "source": [
    "### 실습"
   ]
  },
  {
   "cell_type": "code",
   "execution_count": null,
   "metadata": {},
   "outputs": [],
   "source": [
    "name = input(\"이름을 입력하세요\")\n",
    "age = input(\"나이를 입력하세요\")\n",
    "color = input(\"좋아하는 색깔 입력하세요\")\n",
    "print(f\"이름:{name}나이:{age}좋아하는 색깔:{color}\" )"
   ]
  },
  {
   "cell_type": "code",
   "execution_count": null,
   "metadata": {},
   "outputs": [],
   "source": [
    "movie = input(\"좋아하는 영화 입력하세요\")\n",
    "food = input(\"좋아하는 음식 입력하세요\")\n",
    "hobby = input(\"좋아하는 취미 입력하세요\")\n",
    "print(f\"영화:{movie}음식:{food}취미:{hobby}\" )"
   ]
  },
  {
   "cell_type": "code",
   "execution_count": null,
   "metadata": {},
   "outputs": [],
   "source": [
    "PN = input(\"전화번호를 입력하세요\")"
   ]
  },
  {
   "cell_type": "code",
   "execution_count": null,
   "metadata": {},
   "outputs": [],
   "source": [
    "user_input = input(\"수정하고 싶은 문장을 입력하세요\")\n",
    "user_replace = input(\"수정해야 할 단어 입력하세요\")\n",
    "user_new = input(\"수정 내용 입력하세요\")\n",
    "\n",
    "print(user_input.replace(user_replace,user_new))"
   ]
  },
  {
   "cell_type": "markdown",
   "metadata": {},
   "source": [
    "### 논리 자료형 bool\n",
    "* `True`: 참을 나타냅니다. `1`과 같은 값으로 취급됩니다.\n",
    "* `False`: 거짓을 나타냅니다. `0`과 같은 값으로 취급됩니다.\n",
    "* `비교 연산`에 사용\n",
    "### None 자료형\n",
    "![None](./img/none.png)\n",
    " `비어 있다`, `아무것도 없다`, `정보가 없다`를 표현하고 싶을 때 사용하는 것이 `None`입니다."
   ]
  },
  {
   "cell_type": "code",
   "execution_count": null,
   "metadata": {},
   "outputs": [],
   "source": [
    "x = None\n",
    "\n",
    "\n",
    "print(x == None)    # True, 하지만 이 방식은 권장되지 않습니다.\n",
    "print(x is None)    # True, 이 방식을 사용하여 None을 확인하는 것이 좋습니다."
   ]
  },
  {
   "cell_type": "markdown",
   "metadata": {},
   "source": [
    "### 문자열의 메서드 체이닝\n",
    "* 메서드를 `.` 으로 연결하는것\n",
    "* `한줄`로 코딩하는 것을 권장함 -`2개 혹은 3개 연속`"
   ]
  },
  {
   "cell_type": "code",
   "execution_count": null,
   "metadata": {},
   "outputs": [],
   "source": [
    "sentence = '  Hello, World!  '\n",
    "result = sentence.strip().lower().replace('world', 'python')\n",
    "# 1번 스탭 : sentence.strip() == 'Hello, World!'\n",
    "# 2번 스탭 : 'Hello, World!'.lower() == 'hello, world!'\n",
    "# 3번 스탭 : 'hello, world!'.replace('world', 'python')\n",
    "print(result)  # 'hello, python!'"
   ]
  },
  {
   "cell_type": "markdown",
   "metadata": {},
   "source": [
    "### 형변환\n",
    "\n",
    "* int()\t정수로 변환\n",
    "* str()\t문자열로 변환\n",
    "* float()\t실수로 변환\n",
    "* list()\t리스트로 변환\n",
    "* tuple()\t튜플로 변환\n",
    "* dict()\t딕셔너리로 변환\n",
    "* set()\t셋으로 변환"
   ]
  },
  {
   "cell_type": "code",
   "execution_count": null,
   "metadata": {},
   "outputs": [],
   "source": [
    "data = [('name','licat'),('age',10)]\n",
    "d = dict(data)\n",
    "d"
   ]
  },
  {
   "cell_type": "markdown",
   "metadata": {},
   "source": [
    "### 연습문제\n",
    "\n",
    "* 문제1 : x = 100 <-\n",
    "* 문제2 : 3번,5번,#6번\n",
    "* 문제3 : user_input = input('종복 출력 문장을 입력하세요')<br/>\n",
    "print(user_input*2)"
   ]
  },
  {
   "cell_type": "code",
   "execution_count": 16,
   "metadata": {},
   "outputs": [
    {
     "name": "stdout",
     "output_type": "stream",
     "text": [
      "123a123a\n"
     ]
    }
   ],
   "source": [
    "user_input = input('종복 출력 문장을 입력하세요')\n",
    "print(user_input*2)"
   ]
  },
  {
   "cell_type": "markdown",
   "metadata": {},
   "source": [
    "### 연산자\n",
    "* 연산자는 프로그래밍에서 데이터를 처리하고 분석하는 데 쓰이는 기호나 키워드입니다.\n",
    "* 종류에는 \n",
    "\t1. 산술연산자`(+,-,*,/,%,**) 타입 동일, dict()딕셔너리 사용 불가, -- = + 마이너스 2개는 플러스 이다, / 소수, // 정수`\n",
    "\t2. 대입연산자(할당연산자 = ) \n",
    "\t\t* 할당 연산자의 우선순위는 대부분의 다른 연산자들보다 낮음\n",
    "\t3. 비교연산자`(==,!=,<,<=,>,>=,math.isclose())`\n",
    "\t4. 논리연산자`(and곱셈으로 간주,or덧셈으로 간주,not주어진 조건의 반대 값)` 단락평가 중요..\n",
    "\t\t* 단락 평가: 자원 절약, and 앞 false 뒤 생략, or 앞 true 뒤 생략\n",
    "\t\t* not, and, or는 순서대로 우선순위를 가지고 있습니다. not이 가장 먼저 실행되며 그 다음으로는 and, or 순\n",
    "\t5. 비트연산자\n",
    "\t6. 멤버연산자 `(in, not in)`\n",
    "\t\t* 어떤 값이 목록 안에 있는지 확인해주는 기능입니다\n",
    "\t7. 식별연산자 `(is,is not)`\n",
    "\t\t* 주소를 비교하는 연산자\n",
    "\t\t* id(data) 로 주소 확인\n",
    "\t8. ![우선순위](./img/우선순위표.PNG)\n",
    "\t\n"
   ]
  }
 ],
 "metadata": {
  "kernelspec": {
   "display_name": "Python 3",
   "language": "python",
   "name": "python3"
  },
  "language_info": {
   "codemirror_mode": {
    "name": "ipython",
    "version": 3
   },
   "file_extension": ".py",
   "mimetype": "text/x-python",
   "name": "python",
   "nbconvert_exporter": "python",
   "pygments_lexer": "ipython3",
   "version": "3.12.3"
  }
 },
 "nbformat": 4,
 "nbformat_minor": 2
}
